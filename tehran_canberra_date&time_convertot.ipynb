{
  "nbformat": 4,
  "nbformat_minor": 0,
  "metadata": {
    "colab": {
      "provenance": [],
      "authorship_tag": "ABX9TyPk1VX6ubvwCdhfo4xgwpwR",
      "include_colab_link": true
    },
    "kernelspec": {
      "name": "python3",
      "display_name": "Python 3"
    },
    "language_info": {
      "name": "python"
    }
  },
  "cells": [
    {
      "cell_type": "markdown",
      "metadata": {
        "id": "view-in-github",
        "colab_type": "text"
      },
      "source": [
        "<a href=\"https://colab.research.google.com/github/aSafarpoor/storehouse/blob/main/tehran_canberra_date%26time_convertot.ipynb\" target=\"_parent\"><img src=\"https://colab.research.google.com/assets/colab-badge.svg\" alt=\"Open In Colab\"/></a>"
      ]
    },
    {
      "cell_type": "code",
      "source": [
        "import datetime\n",
        "import pytz\n",
        "from datetime import timedelta"
      ],
      "metadata": {
        "id": "fZIakpaTPcRJ"
      },
      "execution_count": 1,
      "outputs": []
    },
    {
      "cell_type": "markdown",
      "source": [
        "#current time"
      ],
      "metadata": {
        "id": "I50-WpQ2PPK4"
      }
    },
    {
      "cell_type": "code",
      "source": [
        "# Get the timezon\n",
        "canberra_tz = pytz.timezone('Australia/Canberra')\n",
        "tehran_tz = pytz.timezone('Asia/Tehran')\n",
        "\n",
        "tehran_tz,canberra_tz"
      ],
      "metadata": {
        "colab": {
          "base_uri": "https://localhost:8080/"
        },
        "id": "d9o8jejRLP4r",
        "outputId": "5c93e01f-df64-4204-b722-0cd124660e91"
      },
      "execution_count": 2,
      "outputs": [
        {
          "output_type": "execute_result",
          "data": {
            "text/plain": [
              "(<DstTzInfo 'Asia/Tehran' LMT+3:26:00 STD>,\n",
              " <DstTzInfo 'Australia/Canberra' LMT+10:05:00 STD>)"
            ]
          },
          "metadata": {},
          "execution_count": 2
        }
      ]
    },
    {
      "cell_type": "code",
      "execution_count": 3,
      "metadata": {
        "colab": {
          "base_uri": "https://localhost:8080/"
        },
        "id": "4FKR44_OIgX6",
        "outputId": "c64a012c-848c-44b7-aedf-0d425f6a56dc"
      },
      "outputs": [
        {
          "output_type": "stream",
          "name": "stdout",
          "text": [
            "Current date and time in Canberra:  2023-04-30 05:42:16 AEST+1000\n"
          ]
        }
      ],
      "source": [
        "# Get the current time in Canberra\n",
        "canberra_time = datetime.datetime.now(tz=canberra_tz)\n",
        "\n",
        "# Print the current date and timezone in Canberra\n",
        "print(\"Current date and time in Canberra: \", canberra_time.strftime(\"%Y-%m-%d %H:%M:%S %Z%z\"))"
      ]
    },
    {
      "cell_type": "code",
      "source": [
        "# Get the current time in Tehran\n",
        "tehran_time = datetime.datetime.now(tz=tehran_tz)\n",
        "\n",
        "# Print the current date and timezone in Tehran\n",
        "print(\"Current date and time in Tehran: \", tehran_time.strftime(\"%Y-%m-%d %H:%M:%S %Z%z\"))"
      ],
      "metadata": {
        "colab": {
          "base_uri": "https://localhost:8080/"
        },
        "id": "0gcjZatrIhT0",
        "outputId": "2e2baf68-5f18-4304-e238-06b32165ed66"
      },
      "execution_count": 4,
      "outputs": [
        {
          "output_type": "stream",
          "name": "stdout",
          "text": [
            "Current date and time in Tehran:  2023-04-29 23:12:16 +0330+0330\n"
          ]
        }
      ]
    },
    {
      "cell_type": "markdown",
      "source": [
        "# time convertor manually"
      ],
      "metadata": {
        "id": "nM0xUefsPtvY"
      }
    },
    {
      "cell_type": "code",
      "source": [
        "#because a little difference between general timezones and pytz timezones I add it manually.\n",
        "\n",
        "tz_offset = timedelta(hours=3, minutes=30)\n",
        "tehran_tz = pytz.FixedOffset(tz_offset.total_seconds() // 60)\n",
        "\n",
        "tz_offset = timedelta(hours=10, minutes=0)\n",
        "canberra_tz = pytz.FixedOffset(tz_offset.total_seconds() // 60)"
      ],
      "metadata": {
        "id": "aqAsc-XvMkUS"
      },
      "execution_count": 5,
      "outputs": []
    },
    {
      "cell_type": "code",
      "source": [
        "canberra_tz,tehran_tz"
      ],
      "metadata": {
        "colab": {
          "base_uri": "https://localhost:8080/"
        },
        "id": "-5Oha_w2TWMm",
        "outputId": "e33023f6-70fe-4adb-c527-df98f928530d"
      },
      "execution_count": 6,
      "outputs": [
        {
          "output_type": "execute_result",
          "data": {
            "text/plain": [
              "(pytz.FixedOffset(600), pytz.FixedOffset(210))"
            ]
          },
          "metadata": {},
          "execution_count": 6
        }
      ]
    },
    {
      "cell_type": "code",
      "source": [
        "# canberra_tz = pytz.timezone('Australia/Canberra')\n",
        "# tehran_tz = pytz.timezone('Asia/Tehran')"
      ],
      "metadata": {
        "id": "x_EXBK7xIi7r"
      },
      "execution_count": 7,
      "outputs": []
    },
    {
      "cell_type": "code",
      "source": [
        "# canberra_tz,tehran_tz"
      ],
      "metadata": {
        "id": "gsTp5djkTTG-"
      },
      "execution_count": 8,
      "outputs": []
    },
    {
      "cell_type": "code",
      "source": [
        "# Set the Tehran time manually\n",
        "tehran_time = datetime.datetime(2023, 5, 1, 9, 30, 0, tzinfo=tehran_tz)\n",
        "\n",
        "# convert_to_canberra_time\n",
        "canberra_time = tehran_time.astimezone(canberra_tz)\n",
        "\n",
        "# Print the converted time in Canberra\n",
        "print(\"Current time in Canberra:\", canberra_time.strftime('%Y-%m-%d %H:%M:%S %Z%z'))"
      ],
      "metadata": {
        "colab": {
          "base_uri": "https://localhost:8080/"
        },
        "id": "sUfnslWmI0hz",
        "outputId": "268c56a1-22da-4097-89e7-f528107449a2"
      },
      "execution_count": 9,
      "outputs": [
        {
          "output_type": "stream",
          "name": "stdout",
          "text": [
            "Current time in Canberra: 2023-05-01 16:00:00 +1000\n"
          ]
        }
      ]
    },
    {
      "cell_type": "code",
      "source": [
        "# Set the Tehran time manually\n",
        "canberra_time = datetime.datetime(2023, 5, 1, 16, 0, 0, tzinfo=canberra_tz)\n",
        "\n",
        "# convert_to_canberra_time\n",
        "tehran_time = canberra_time.astimezone(tehran_tz)\n",
        "\n",
        "# Print the converted time in Canberra\n",
        "print(\"Current time in Canberra:\", tehran_time.strftime('%Y-%m-%d %H:%M:%S %Z%z'))"
      ],
      "metadata": {
        "colab": {
          "base_uri": "https://localhost:8080/"
        },
        "id": "xU2heNhlQnxv",
        "outputId": "71e5102c-22cc-4da2-d75e-0ffa5c859fe1"
      },
      "execution_count": 10,
      "outputs": [
        {
          "output_type": "stream",
          "name": "stdout",
          "text": [
            "Current time in Canberra: 2023-05-01 09:30:00 +0330\n"
          ]
        }
      ]
    }
  ]
}