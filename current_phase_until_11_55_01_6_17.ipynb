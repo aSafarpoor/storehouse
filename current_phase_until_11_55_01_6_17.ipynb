{
  "nbformat": 4,
  "nbformat_minor": 0,
  "metadata": {
    "colab": {
      "provenance": [],
      "collapsed_sections": [],
      "include_colab_link": true
    },
    "kernelspec": {
      "name": "python3",
      "display_name": "Python 3"
    },
    "language_info": {
      "name": "python"
    },
    "accelerator": "GPU",
    "gpuClass": "standard"
  },
  "cells": [
    {
      "cell_type": "markdown",
      "metadata": {
        "id": "view-in-github",
        "colab_type": "text"
      },
      "source": [
        "<a href=\"https://colab.research.google.com/github/aSafarpoor/storehouse/blob/main/current_phase_until_11_55_01_6_17.ipynb\" target=\"_parent\"><img src=\"https://colab.research.google.com/assets/colab-badge.svg\" alt=\"Open In Colab\"/></a>"
      ]
    },
    {
      "cell_type": "markdown",
      "source": [
        "This notebook is mainly not mine but, I will add some parts to make it like a tutorial for myself, and then |I will change it to test my idea."
      ],
      "metadata": {
        "id": "kH6usRadDciG"
      }
    },
    {
      "cell_type": "markdown",
      "source": [
        "Based on: https://towardsdatascience.com/program-a-simple-graph-net-in-pytorch-e00b500a642d\n",
        "\n",
        "Source: https://github.com/praxidike97/GraphNeuralNet/blob/72c330bb6e64dd7dd6784b6e69a821149dc5d028/main.py#L114"
      ],
      "metadata": {
        "id": "EK9jTVUpQz7W"
      }
    },
    {
      "cell_type": "code",
      "source": [
        "# Add this in a Google Colab cell to install the correct version of Pytorch Geometric.\n",
        "import torch\n",
        "\n",
        "def format_pytorch_version(version):\n",
        "  return version.split('+')[0]\n",
        "\n",
        "TORCH_version = torch.__version__\n",
        "TORCH = format_pytorch_version(TORCH_version)\n",
        "\n",
        "def format_cuda_version(version):\n",
        "  return 'cu' + version.replace('.', '')\n",
        "\n",
        "CUDA_version = torch.version.cuda\n",
        "CUDA = format_cuda_version(CUDA_version)\n",
        "\n",
        "!pip install torch-scatter     -f https://pytorch-geometric.com/whl/torch-{TORCH}+{CUDA}.html\n",
        "!pip install torch-sparse      -f https://pytorch-geometric.com/whl/torch-{TORCH}+{CUDA}.html\n",
        "!pip install torch-cluster     -f https://pytorch-geometric.com/whl/torch-{TORCH}+{CUDA}.html\n",
        "!pip install torch-spline-conv -f https://pytorch-geometric.com/whl/torch-{TORCH}+{CUDA}.html\n",
        "!pip install torch-geometric "
      ],
      "metadata": {
        "colab": {
          "base_uri": "https://localhost:8080/"
        },
        "id": "reGnJdezSfWV",
        "outputId": "c8a69f0c-5723-4581-fe25-138c737baa97"
      },
      "execution_count": 1,
      "outputs": [
        {
          "output_type": "stream",
          "name": "stdout",
          "text": [
            "Looking in indexes: https://pypi.org/simple, https://us-python.pkg.dev/colab-wheels/public/simple/\n",
            "Looking in links: https://pytorch-geometric.com/whl/torch-1.12.1+cu113.html\n",
            "Collecting torch-scatter\n",
            "  Downloading https://data.pyg.org/whl/torch-1.12.0%2Bcu113/torch_scatter-2.0.9-cp37-cp37m-linux_x86_64.whl (7.9 MB)\n",
            "\u001b[K     |████████████████████████████████| 7.9 MB 20.7 MB/s \n",
            "\u001b[?25hInstalling collected packages: torch-scatter\n",
            "Successfully installed torch-scatter-2.0.9\n",
            "Looking in indexes: https://pypi.org/simple, https://us-python.pkg.dev/colab-wheels/public/simple/\n",
            "Looking in links: https://pytorch-geometric.com/whl/torch-1.12.1+cu113.html\n",
            "Collecting torch-sparse\n",
            "  Downloading https://data.pyg.org/whl/torch-1.12.0%2Bcu113/torch_sparse-0.6.15-cp37-cp37m-linux_x86_64.whl (3.5 MB)\n",
            "\u001b[K     |████████████████████████████████| 3.5 MB 22.5 MB/s \n",
            "\u001b[?25hRequirement already satisfied: scipy in /usr/local/lib/python3.7/dist-packages (from torch-sparse) (1.7.3)\n",
            "Requirement already satisfied: numpy<1.23.0,>=1.16.5 in /usr/local/lib/python3.7/dist-packages (from scipy->torch-sparse) (1.21.6)\n",
            "Installing collected packages: torch-sparse\n",
            "Successfully installed torch-sparse-0.6.15\n",
            "Looking in indexes: https://pypi.org/simple, https://us-python.pkg.dev/colab-wheels/public/simple/\n",
            "Looking in links: https://pytorch-geometric.com/whl/torch-1.12.1+cu113.html\n",
            "Collecting torch-cluster\n",
            "  Downloading https://data.pyg.org/whl/torch-1.12.0%2Bcu113/torch_cluster-1.6.0-cp37-cp37m-linux_x86_64.whl (2.4 MB)\n",
            "\u001b[K     |████████████████████████████████| 2.4 MB 24.8 MB/s \n",
            "\u001b[?25hInstalling collected packages: torch-cluster\n",
            "Successfully installed torch-cluster-1.6.0\n",
            "Looking in indexes: https://pypi.org/simple, https://us-python.pkg.dev/colab-wheels/public/simple/\n",
            "Looking in links: https://pytorch-geometric.com/whl/torch-1.12.1+cu113.html\n",
            "Collecting torch-spline-conv\n",
            "  Downloading https://data.pyg.org/whl/torch-1.12.0%2Bcu113/torch_spline_conv-1.2.1-cp37-cp37m-linux_x86_64.whl (709 kB)\n",
            "\u001b[K     |████████████████████████████████| 709 kB 19.2 MB/s \n",
            "\u001b[?25hInstalling collected packages: torch-spline-conv\n",
            "Successfully installed torch-spline-conv-1.2.1\n",
            "Looking in indexes: https://pypi.org/simple, https://us-python.pkg.dev/colab-wheels/public/simple/\n",
            "Collecting torch-geometric\n",
            "  Downloading torch_geometric-2.1.0.post1.tar.gz (467 kB)\n",
            "\u001b[K     |████████████████████████████████| 467 kB 27.5 MB/s \n",
            "\u001b[?25hRequirement already satisfied: tqdm in /usr/local/lib/python3.7/dist-packages (from torch-geometric) (4.64.0)\n",
            "Requirement already satisfied: numpy in /usr/local/lib/python3.7/dist-packages (from torch-geometric) (1.21.6)\n",
            "Requirement already satisfied: scipy in /usr/local/lib/python3.7/dist-packages (from torch-geometric) (1.7.3)\n",
            "Requirement already satisfied: jinja2 in /usr/local/lib/python3.7/dist-packages (from torch-geometric) (2.11.3)\n",
            "Requirement already satisfied: requests in /usr/local/lib/python3.7/dist-packages (from torch-geometric) (2.23.0)\n",
            "Requirement already satisfied: pyparsing in /usr/local/lib/python3.7/dist-packages (from torch-geometric) (3.0.9)\n",
            "Requirement already satisfied: scikit-learn in /usr/local/lib/python3.7/dist-packages (from torch-geometric) (1.0.2)\n",
            "Requirement already satisfied: MarkupSafe>=0.23 in /usr/local/lib/python3.7/dist-packages (from jinja2->torch-geometric) (2.0.1)\n",
            "Requirement already satisfied: certifi>=2017.4.17 in /usr/local/lib/python3.7/dist-packages (from requests->torch-geometric) (2022.6.15)\n",
            "Requirement already satisfied: chardet<4,>=3.0.2 in /usr/local/lib/python3.7/dist-packages (from requests->torch-geometric) (3.0.4)\n",
            "Requirement already satisfied: idna<3,>=2.5 in /usr/local/lib/python3.7/dist-packages (from requests->torch-geometric) (2.10)\n",
            "Requirement already satisfied: urllib3!=1.25.0,!=1.25.1,<1.26,>=1.21.1 in /usr/local/lib/python3.7/dist-packages (from requests->torch-geometric) (1.24.3)\n",
            "Requirement already satisfied: threadpoolctl>=2.0.0 in /usr/local/lib/python3.7/dist-packages (from scikit-learn->torch-geometric) (3.1.0)\n",
            "Requirement already satisfied: joblib>=0.11 in /usr/local/lib/python3.7/dist-packages (from scikit-learn->torch-geometric) (1.1.0)\n",
            "Building wheels for collected packages: torch-geometric\n",
            "  Building wheel for torch-geometric (setup.py) ... \u001b[?25l\u001b[?25hdone\n",
            "  Created wheel for torch-geometric: filename=torch_geometric-2.1.0.post1-py3-none-any.whl size=689859 sha256=2bcc65e3651a5b77f1b346c542e61a7b53a936fa50302fe12ff01f9958a05248\n",
            "  Stored in directory: /root/.cache/pip/wheels/d1/cb/43/f7f2e472de4d7cff31bceddadc36d634e1e545fbc17961c282\n",
            "Successfully built torch-geometric\n",
            "Installing collected packages: torch-geometric\n",
            "Successfully installed torch-geometric-2.1.0.post1\n"
          ]
        }
      ]
    },
    {
      "cell_type": "code",
      "source": [
        "from torch_geometric.datasets import Planetoid\n",
        "import torch\n",
        "import torch.nn.functional as F\n",
        "from torch_geometric.nn import MessagePassing\n",
        "from torch_geometric.utils import add_self_loops, degree\n",
        "import networkx as nx\n",
        "import numpy as np\n",
        "import matplotlib.pyplot as plt\n",
        "from tqdm import tqdm"
      ],
      "metadata": {
        "id": "PJqdawcjQ7mO"
      },
      "execution_count": 2,
      "outputs": []
    },
    {
      "cell_type": "code",
      "source": [
        "import random\n",
        "random.seed(10)"
      ],
      "metadata": {
        "id": "HlFhPCgyaD2C"
      },
      "execution_count": 3,
      "outputs": []
    },
    {
      "cell_type": "markdown",
      "source": [
        "# what we need"
      ],
      "metadata": {
        "id": "ZGOM4TuPfYot"
      }
    },
    {
      "cell_type": "markdown",
      "source": [
        "## Graph Class"
      ],
      "metadata": {
        "id": "dCIwUB25DGl9"
      }
    },
    {
      "cell_type": "code",
      "source": [
        "from itertools import filterfalse\n",
        "class Graph:\n",
        "    def __init__(self,nV):\n",
        "        self.nV = nV\n",
        "        self.V = list(range(nV))\n",
        "        self.lenE = 0\n",
        "        self.VnV = [[] for i in range(nV)]\n",
        "        self.emV = []\n",
        "        self.cc = []\n",
        "\n",
        "    def add_edge(self,v1,v2,directed=False):\n",
        "        self.VnV[v1].append(v2)\n",
        "        if not directed:\n",
        "            self.VnV[v2].append(v1)\n",
        "        \n",
        "        self.lenE += 1\n",
        "\n",
        "    def add_self_loop(self):\n",
        "        for i in range(self.nV):\n",
        "            self.VnV[i].append(i)\n",
        "        self.lenE += self.nV\n",
        "\n",
        "    def create_embedding(self):\n",
        "        self.emV = []\n",
        "        for i in range(self.nV):\n",
        "            temp = [0 for i in range(self.nV)]\n",
        "            for j in self.VnV[i]:\n",
        "                temp[j] = 1\n",
        "            self.emV.append(temp[:])\n",
        "        return self.emV\n",
        "    \n",
        "    def create_embedding_based_on_input(self,edges):\n",
        "        self.emboi = np.zeros((self.nV,self.nV))\n",
        "        for i in range(len(edges[0])):\n",
        "            self.emboi[edges[0][i]][edges[1][i]] = 1\n",
        "        return self.emboi\n",
        "\n",
        "    def create_random_edges(self,index_list,num,avoid_self_loop=False,directed=False):\n",
        "        for i in range(num):\n",
        "            e1 = random.choice(index_list)\n",
        "            e2 = random.choice(index_list)\n",
        "            if avoid_self_loop:\n",
        "                while(e2 == e1):\n",
        "                     e2 = random.choice(index_list)\n",
        "            self.add_edge(e1,e2,directed=directed)\n",
        "    \n",
        "    def clear_redundant_edges(self):\n",
        "        self.lenE = 0\n",
        "        for i in range(len(self.VnV)):\n",
        "            self.VnV[i] = list(set(self.VnV[i]))\n",
        "            self.lenE += len(self.VnV[i])\n",
        "            self.lenE += i in self.VnV[i]\n",
        "        self.lenE/=2\n",
        "\n",
        "    def ask_nE(self,ifprint=False):\n",
        "        if ifprint:\n",
        "            print(int(self.lenE))\n",
        "        return int(self.lenE)\n",
        "    \n",
        "    def edge_index(self):\n",
        "        E1 = []\n",
        "        E2 = []\n",
        "        for i in range(self.nV):\n",
        "            for j in self.VnV[i]:\n",
        "                E1.append(i)\n",
        "                E2.append(j)\n",
        "        return [E1,E2]\n",
        "\n",
        "    @staticmethod\n",
        "    def is_commonelems(x,y):\n",
        "        for value in x:\n",
        "            if value in y:\n",
        "                return True\n",
        "        return False\n",
        "\n",
        "    def update_cc(self,index_list):\n",
        "        self.cc.append(index_list)\n",
        "\n",
        "    def create_connected_component(self,index_list,nE):\n",
        "        self.update_cc(index_list)\n",
        "\n",
        "        n = max(nE-len(index_list),0)\n",
        "        fill = [index_list[0],index_list[1]]\n",
        "        self.add_edge(index_list[0],index_list[1])\n",
        "        for i in range(3,len(index_list)):\n",
        "            fill.append(index_list[i])\n",
        "            self.add_edge(index_list[i],random.choice(fill))\n",
        "        \n",
        "        for i in range(n):\n",
        "            self.add_edge(random.choice(fill),random.choice(fill))\n",
        "\n",
        "g = Graph(10)\n",
        "g.add_edge(1,2)\n",
        "g.add_edge(0,1)\n",
        "g.add_edge(3,4)\n",
        "g.create_random_edges(list(range(5,10)),7)\n",
        "g.add_self_loop()\n",
        "g.clear_redundant_edges()\n",
        "g.ask_nE(True)\n",
        "print(g.edge_index())\n",
        "g.create_embedding()\n"
      ],
      "metadata": {
        "id": "78AOR09EIejU",
        "outputId": "2b3fd877-c6fd-4cd6-f86f-94a1e19c8b59",
        "colab": {
          "base_uri": "https://localhost:8080/"
        }
      },
      "execution_count": 43,
      "outputs": [
        {
          "output_type": "stream",
          "name": "stdout",
          "text": [
            "16\n",
            "[[0, 0, 1, 1, 1, 2, 2, 3, 3, 4, 4, 5, 5, 6, 6, 6, 7, 7, 8, 8, 9, 9], [0, 1, 0, 1, 2, 1, 2, 3, 4, 3, 4, 9, 5, 8, 6, 7, 6, 7, 8, 6, 9, 5]]\n"
          ]
        },
        {
          "output_type": "execute_result",
          "data": {
            "text/plain": [
              "[[1, 1, 0, 0, 0, 0, 0, 0, 0, 0],\n",
              " [1, 1, 1, 0, 0, 0, 0, 0, 0, 0],\n",
              " [0, 1, 1, 0, 0, 0, 0, 0, 0, 0],\n",
              " [0, 0, 0, 1, 1, 0, 0, 0, 0, 0],\n",
              " [0, 0, 0, 1, 1, 0, 0, 0, 0, 0],\n",
              " [0, 0, 0, 0, 0, 1, 0, 0, 0, 1],\n",
              " [0, 0, 0, 0, 0, 0, 1, 1, 1, 0],\n",
              " [0, 0, 0, 0, 0, 0, 1, 1, 0, 0],\n",
              " [0, 0, 0, 0, 0, 0, 1, 0, 1, 0],\n",
              " [0, 0, 0, 0, 0, 1, 0, 0, 0, 1]]"
            ]
          },
          "metadata": {},
          "execution_count": 43
        }
      ]
    },
    {
      "cell_type": "markdown",
      "source": [
        "# create dataset"
      ],
      "metadata": {
        "id": "a_62YJN5fb9N"
      }
    },
    {
      "cell_type": "code",
      "source": [
        "class Data:\n",
        "    def __init__(self,g):\n",
        "        self.x = np.array(g.create_embedding())\n",
        "        self.num_node_features = g.nV\n",
        "        self.edge_index = np.array(g.edge_index())\n",
        "\n",
        "    def create_mask(self,train_ratio=0.7):\n",
        "        self.test_mask = []\n",
        "        self.train_mask = []\n",
        "        for i in range(len(self.edge_index[0])):\n",
        "            if random.random()>train_ratio:\n",
        "                self.test_mask.append(True)\n",
        "                self.train_mask.append(False)\n",
        "\n",
        "            else:\n",
        "                self.train_mask.append(True)\n",
        "                self.test_mask.append(False)\n",
        "\n",
        "\n",
        "    def safe_create_mask(self,train_ratio=0.7):\n",
        "        self.test_mask = []\n",
        "        self.train_mask = []\n",
        "        last_train = -1\n",
        "        for i in range(len(self.edge_index[0])):\n",
        "            if last_train != self.edge_index[0][i]:\n",
        "                last_train = self.edge_index[0][i]\n",
        "                self.train_mask.append(True)\n",
        "                self.test_mask.append(False)\n",
        "\n",
        "            elif random.random()>train_ratio:\n",
        "                self.test_mask.append(True)\n",
        "                self.train_mask.append(False)\n",
        "            else:\n",
        "                self.train_mask.append(True)\n",
        "                self.test_mask.append(False)\n",
        "\n"
      ],
      "metadata": {
        "id": "fHDZ7uT3ct2_"
      },
      "execution_count": 6,
      "outputs": []
    },
    {
      "cell_type": "code",
      "source": [
        "data = Data(g)#g is Graph obj"
      ],
      "metadata": {
        "id": "IqNUfqFafmmu"
      },
      "execution_count": 7,
      "outputs": []
    },
    {
      "cell_type": "code",
      "source": [
        "print(data.num_node_features)\n",
        "x, edge_index = data.x, data.edge_index\n",
        "print(x.shape,edge_index.shape)\n",
        "\n",
        "data.create_mask()\n",
        "print(sum(data.train_mask))\n",
        "print(sum(data.test_mask))\n",
        "\n",
        "data.safe_create_mask()\n",
        "print(sum(data.train_mask))\n",
        "print(sum(data.test_mask))"
      ],
      "metadata": {
        "colab": {
          "base_uri": "https://localhost:8080/"
        },
        "id": "QUp-W0_2cuPg",
        "outputId": "b698004c-6c22-47be-ff62-618ccd412dce"
      },
      "execution_count": 8,
      "outputs": [
        {
          "output_type": "stream",
          "name": "stdout",
          "text": [
            "10\n",
            "(10, 10) (2, 26)\n",
            "18\n",
            "8\n",
            "23\n",
            "3\n"
          ]
        }
      ]
    },
    {
      "cell_type": "markdown",
      "source": [
        "# test above parts"
      ],
      "metadata": {
        "id": "yqX3MC0Glpwl"
      }
    },
    {
      "cell_type": "code",
      "source": [
        "g = Graph(30)\n",
        "g.create_random_edges(list(range(10)),7)\n",
        "g.create_random_edges(list(range(10,20)),27)\n",
        "g.create_random_edges(list(range(20,30)),17)\n",
        "\n",
        "g.add_self_loop()\n",
        "g.clear_redundant_edges()\n",
        "g.ask_nE(True)\n",
        "# g.create_embedding()"
      ],
      "metadata": {
        "colab": {
          "base_uri": "https://localhost:8080/"
        },
        "id": "6BI5_SRMcuSZ",
        "outputId": "2565cce8-169a-4949-d23c-3e9248c4bc5b"
      },
      "execution_count": 9,
      "outputs": [
        {
          "output_type": "stream",
          "name": "stdout",
          "text": [
            "68\n"
          ]
        },
        {
          "output_type": "execute_result",
          "data": {
            "text/plain": [
              "68"
            ]
          },
          "metadata": {},
          "execution_count": 9
        }
      ]
    },
    {
      "cell_type": "code",
      "source": [
        "data = Data(g)#g is Graph obj\n",
        "\n",
        "print(data.num_node_features)\n",
        "x, edge_index = data.x, data.edge_index\n",
        "print(x.shape,edge_index.shape)\n",
        "\n",
        "data.create_mask()\n",
        "print(sum(data.train_mask))\n",
        "print(sum(data.test_mask))\n",
        "\n",
        "data.safe_create_mask()\n",
        "print(sum(data.train_mask))\n",
        "print(sum(data.test_mask))"
      ],
      "metadata": {
        "colab": {
          "base_uri": "https://localhost:8080/"
        },
        "id": "jl44lHhNcuVB",
        "outputId": "cb04e39a-fe6b-417d-8cdb-a1764ee6c4b0"
      },
      "execution_count": 10,
      "outputs": [
        {
          "output_type": "stream",
          "name": "stdout",
          "text": [
            "30\n",
            "(30, 30) (2, 106)\n",
            "68\n",
            "38\n",
            "83\n",
            "23\n"
          ]
        }
      ]
    },
    {
      "cell_type": "code",
      "source": [
        "from matplotlib import pyplot as plt\n",
        "em = g.create_embedding()\n",
        "plt.imshow(em);plt.show()"
      ],
      "metadata": {
        "colab": {
          "base_uri": "https://localhost:8080/",
          "height": 266
        },
        "id": "pd4ipGgGcuYP",
        "outputId": "f4b7d62a-6490-448d-b79c-c13b9af4d7c2"
      },
      "execution_count": 11,
      "outputs": [
        {
          "output_type": "display_data",
          "data": {
            "text/plain": [
              "<Figure size 432x288 with 1 Axes>"
            ],
            "image/png": "[encoded data removed]"
          },
          "metadata": {
            "needs_background": "light"
          }
        }
      ]
    },
    {
      "cell_type": "code",
      "source": [
        "g = Graph(50)\n",
        "g.create_connected_component(list(range(10)),17)\n",
        "g.create_connected_component(list(range(10,25)),47)\n",
        "g.create_connected_component(list(range(25,50)),67)\n",
        "\n",
        "g.add_self_loop()\n",
        "g.clear_redundant_edges()\n",
        "g.ask_nE(True)\n",
        "# g.create_embedding()"
      ],
      "metadata": {
        "colab": {
          "base_uri": "https://localhost:8080/"
        },
        "id": "60v_IoUycubz",
        "outputId": "c177983d-4081-485b-a137-5ff32872152e"
      },
      "execution_count": 45,
      "outputs": [
        {
          "output_type": "stream",
          "name": "stdout",
          "text": [
            "149\n"
          ]
        },
        {
          "output_type": "execute_result",
          "data": {
            "text/plain": [
              "149"
            ]
          },
          "metadata": {},
          "execution_count": 45
        }
      ]
    },
    {
      "cell_type": "code",
      "source": [
        "g.cc"
      ],
      "metadata": {
        "colab": {
          "base_uri": "https://localhost:8080/"
        },
        "id": "0uxnGOuM6pdh",
        "outputId": "c2dad228-33c1-4d21-8403-814fa0046f00"
      },
      "execution_count": 46,
      "outputs": [
        {
          "output_type": "execute_result",
          "data": {
            "text/plain": [
              "[[0, 1, 2, 3, 4, 5, 6, 7, 8, 9],\n",
              " [10, 11, 12, 13, 14, 15, 16, 17, 18, 19, 20, 21, 22, 23, 24],\n",
              " [25,\n",
              "  26,\n",
              "  27,\n",
              "  28,\n",
              "  29,\n",
              "  30,\n",
              "  31,\n",
              "  32,\n",
              "  33,\n",
              "  34,\n",
              "  35,\n",
              "  36,\n",
              "  37,\n",
              "  38,\n",
              "  39,\n",
              "  40,\n",
              "  41,\n",
              "  42,\n",
              "  43,\n",
              "  44,\n",
              "  45,\n",
              "  46,\n",
              "  47,\n",
              "  48,\n",
              "  49]]"
            ]
          },
          "metadata": {},
          "execution_count": 46
        }
      ]
    },
    {
      "cell_type": "code",
      "source": [
        "em = g.create_embedding()\n",
        "plt.imshow(em);plt.show()"
      ],
      "metadata": {
        "colab": {
          "base_uri": "https://localhost:8080/",
          "height": 267
        },
        "id": "zolR0PGecuen",
        "outputId": "204553c3-2420-4f68-b734-0146c0607dae"
      },
      "execution_count": 13,
      "outputs": [
        {
          "output_type": "display_data",
          "data": {
            "text/plain": [
              "<Figure size 432x288 with 1 Axes>"
            ],
            "image/png": "[encoded data removed]"
          },
          "metadata": {
            "needs_background": "light"
          }
        }
      ]
    },
    {
      "cell_type": "code",
      "source": [
        "data = Data(g)#g is Graph obj\n",
        "\n",
        "print(data.num_node_features)\n",
        "x, edge_index = data.x, data.edge_index\n",
        "print(x.shape,edge_index.shape)\n",
        "\n",
        "data.create_mask()\n",
        "print(sum(data.train_mask))\n",
        "print(sum(data.test_mask))\n",
        "\n",
        "data.safe_create_mask()\n",
        "print(sum(data.train_mask))\n",
        "print(sum(data.test_mask))"
      ],
      "metadata": {
        "colab": {
          "base_uri": "https://localhost:8080/"
        },
        "id": "1JuTUiykcuhn",
        "outputId": "56f7027b-48a7-467b-8428-c3e2d628a641"
      },
      "execution_count": 14,
      "outputs": [
        {
          "output_type": "stream",
          "name": "stdout",
          "text": [
            "50\n",
            "(50, 50) (2, 244)\n",
            "172\n",
            "72\n",
            "186\n",
            "58\n"
          ]
        }
      ]
    },
    {
      "cell_type": "code",
      "source": [
        "train = np.array([data.edge_index[0][data.train_mask],data.edge_index[1][data.train_mask]])\n",
        "test = np.array([data.edge_index[0][data.test_mask],data.edge_index[1][data.test_mask]])"
      ],
      "metadata": {
        "id": "dxBWP77NoW_E"
      },
      "execution_count": 15,
      "outputs": []
    },
    {
      "cell_type": "code",
      "source": [
        "train,test"
      ],
      "metadata": {
        "colab": {
          "base_uri": "https://localhost:8080/"
        },
        "id": "SoOMuzycqRJz",
        "outputId": "b3360ad2-0ebd-46a2-d74b-62e49b0112c9"
      },
      "execution_count": 16,
      "outputs": [
        {
          "output_type": "execute_result",
          "data": {
            "text/plain": [
              "(array([[ 0,  0,  1,  1,  1,  2,  3,  3,  4,  4,  4,  5,  5,  5,  5,  6,\n",
              "          6,  7,  7,  7,  8,  9,  9, 10, 10, 10, 10, 10, 10, 10, 10, 11,\n",
              "         11, 12, 13, 13, 13, 13, 13, 14, 14, 14, 14, 15, 15, 15, 16, 16,\n",
              "         16, 17, 17, 17, 17, 18, 18, 18, 18, 19, 19, 19, 19, 20, 20, 20,\n",
              "         20, 21, 21, 21, 21, 21, 22, 22, 22, 22, 22, 23, 23, 23, 23, 24,\n",
              "         24, 24, 24, 25, 25, 25, 25, 25, 26, 26, 26, 26, 26, 26, 26, 27,\n",
              "         28, 28, 28, 28, 29, 29, 29, 29, 29, 30, 30, 30, 30, 30, 30, 30,\n",
              "         30, 31, 31, 31, 32, 32, 32, 33, 33, 33, 34, 34, 34, 34, 35, 35,\n",
              "         35, 35, 35, 36, 36, 36, 36, 37, 37, 37, 37, 38, 38, 38, 38, 39,\n",
              "         39, 40, 40, 40, 40, 40, 41, 41, 41, 41, 41, 41, 41, 42, 42, 42,\n",
              "         42, 43, 43, 44, 44, 44, 44, 45, 45, 45, 45, 46, 46, 46, 46, 46,\n",
              "         46, 46, 47, 47, 48, 48, 48, 48, 49, 49],\n",
              "        [ 0,  9,  0,  4,  6,  2,  3,  7,  1,  5,  9,  8,  4,  5,  7,  1,\n",
              "          6,  1,  3,  7,  8,  0,  4, 10, 11, 14, 15, 18, 19, 21, 24, 17,\n",
              "         11, 12, 10, 15, 21, 22, 23, 16, 24, 10, 14, 10, 13, 15, 16, 21,\n",
              "         14, 11, 17, 20, 21, 10, 16, 18, 21, 24, 10, 19, 20, 17, 18, 19,\n",
              "         20, 10, 13, 16, 17, 21, 11, 13, 17, 22, 23, 10, 13, 22, 23, 24,\n",
              "         10, 19, 14, 32, 25, 26, 29, 30, 34, 38, 39, 40, 45, 46, 30, 27,\n",
              "         32, 33, 37, 45, 41, 43, 45, 25, 29, 35, 38, 42, 45, 46, 25, 26,\n",
              "         30, 38, 40, 48, 32, 25, 28, 33, 35, 28, 32, 26, 44, 34, 33, 40,\n",
              "         41, 46, 30, 36, 46, 49, 25, 42, 28, 37, 46, 38, 25, 26, 31, 48,\n",
              "         26, 35, 40, 47, 26, 31, 35, 41, 42, 44, 47, 48, 29, 36, 41, 42,\n",
              "         46, 32, 29, 41, 34, 43, 44, 45, 47, 26, 29, 35, 36, 37, 42, 46,\n",
              "         26, 30, 36, 41, 36, 41, 48, 30, 48, 49]]),\n",
              " array([[ 0,  1,  1,  4,  7,  8,  8,  9,  9, 10, 10, 11, 11, 13, 16, 17,\n",
              "         18, 21, 21, 23, 25, 25, 25, 26, 26, 26, 28, 28, 28, 30, 31, 31,\n",
              "         32, 32, 35, 36, 36, 36, 38, 39, 39, 42, 42, 42, 43, 43, 45, 45,\n",
              "         47, 47, 47, 47, 48, 48, 48, 48, 49, 49],\n",
              "        [ 1,  1,  7,  4,  5,  9,  5,  8,  9, 13, 23, 10, 22, 13, 18, 22,\n",
              "         20, 18, 23, 21, 36, 38, 49, 25, 26, 28, 26, 28, 31, 48, 28, 31,\n",
              "         34, 43, 35, 42, 47, 48, 30, 42, 39, 37, 39, 30, 43, 44, 28, 30,\n",
              "         40, 45, 47, 48, 39, 47, 49, 31, 25, 36]]))"
            ]
          },
          "metadata": {},
          "execution_count": 16
        }
      ]
    },
    {
      "cell_type": "code",
      "source": [
        "etrain = g.create_embedding_based_on_input(train)\n",
        "etest = g.create_embedding_based_on_input(test)"
      ],
      "metadata": {
        "id": "mH0G23IDouok"
      },
      "execution_count": 17,
      "outputs": []
    },
    {
      "cell_type": "code",
      "source": [
        "etrain[0]"
      ],
      "metadata": {
        "colab": {
          "base_uri": "https://localhost:8080/"
        },
        "id": "xxQRk9uUqLH7",
        "outputId": "02a7b498-860a-4d6b-a959-cd4f351b448c"
      },
      "execution_count": 18,
      "outputs": [
        {
          "output_type": "execute_result",
          "data": {
            "text/plain": [
              "array([1., 0., 0., 0., 0., 0., 0., 0., 0., 1., 0., 0., 0., 0., 0., 0., 0.,\n",
              "       0., 0., 0., 0., 0., 0., 0., 0., 0., 0., 0., 0., 0., 0., 0., 0., 0.,\n",
              "       0., 0., 0., 0., 0., 0., 0., 0., 0., 0., 0., 0., 0., 0., 0., 0.])"
            ]
          },
          "metadata": {},
          "execution_count": 18
        }
      ]
    },
    {
      "cell_type": "code",
      "source": [
        "plt.imshow(etrain);plt.show();\n",
        "plt.imshow(etest);plt.show();\n",
        "plt.imshow(etest+etrain);plt.show();"
      ],
      "metadata": {
        "colab": {
          "base_uri": "https://localhost:8080/",
          "height": 767
        },
        "id": "WtyEnSdGo0UD",
        "outputId": "fcd3ffef-b85a-485f-a67d-742ee75a4528"
      },
      "execution_count": 19,
      "outputs": [
        {
          "output_type": "display_data",
          "data": {
            "text/plain": [
              "<Figure size 432x288 with 1 Axes>"
            ],
            "image/png": "[encoded data removed]"
          },
          "metadata": {
            "needs_background": "light"
          }
        },
        {
          "output_type": "display_data",
          "data": {
            "text/plain": [
              "<Figure size 432x288 with 1 Axes>"
            ],
            "image/png": "[encoded data removed]"
          },
          "metadata": {
            "needs_background": "light"
          }
        },
        {
          "output_type": "display_data",
          "data": {
            "text/plain": [
              "<Figure size 432x288 with 1 Axes>"
            ],
            "image/png": "[encoded data removed]"
          },
          "metadata": {
            "needs_background": "light"
          }
        }
      ]
    },
    {
      "cell_type": "markdown",
      "source": [
        "now we have:\n",
        "\n",
        "* train: edges\n",
        "* test: edges\n",
        "* etrain: matrix"
      ],
      "metadata": {
        "id": "vyiOlYznr5j9"
      }
    },
    {
      "cell_type": "code",
      "source": [
        "print(train)\n",
        "print(test)\n",
        "print(etrain[:10,:10])"
      ],
      "metadata": {
        "colab": {
          "base_uri": "https://localhost:8080/"
        },
        "id": "XLViYo4FqInj",
        "outputId": "99d6027d-f153-4d56-bf92-3559c83e133d"
      },
      "execution_count": 20,
      "outputs": [
        {
          "output_type": "stream",
          "name": "stdout",
          "text": [
            "[[ 0  0  1  1  1  2  3  3  4  4  4  5  5  5  5  6  6  7  7  7  8  9  9 10\n",
            "  10 10 10 10 10 10 10 11 11 12 13 13 13 13 13 14 14 14 14 15 15 15 16 16\n",
            "  16 17 17 17 17 18 18 18 18 19 19 19 19 20 20 20 20 21 21 21 21 21 22 22\n",
            "  22 22 22 23 23 23 23 24 24 24 24 25 25 25 25 25 26 26 26 26 26 26 26 27\n",
            "  28 28 28 28 29 29 29 29 29 30 30 30 30 30 30 30 30 31 31 31 32 32 32 33\n",
            "  33 33 34 34 34 34 35 35 35 35 35 36 36 36 36 37 37 37 37 38 38 38 38 39\n",
            "  39 40 40 40 40 40 41 41 41 41 41 41 41 42 42 42 42 43 43 44 44 44 44 45\n",
            "  45 45 45 46 46 46 46 46 46 46 47 47 48 48 48 48 49 49]\n",
            " [ 0  9  0  4  6  2  3  7  1  5  9  8  4  5  7  1  6  1  3  7  8  0  4 10\n",
            "  11 14 15 18 19 21 24 17 11 12 10 15 21 22 23 16 24 10 14 10 13 15 16 21\n",
            "  14 11 17 20 21 10 16 18 21 24 10 19 20 17 18 19 20 10 13 16 17 21 11 13\n",
            "  17 22 23 10 13 22 23 24 10 19 14 32 25 26 29 30 34 38 39 40 45 46 30 27\n",
            "  32 33 37 45 41 43 45 25 29 35 38 42 45 46 25 26 30 38 40 48 32 25 28 33\n",
            "  35 28 32 26 44 34 33 40 41 46 30 36 46 49 25 42 28 37 46 38 25 26 31 48\n",
            "  26 35 40 47 26 31 35 41 42 44 47 48 29 36 41 42 46 32 29 41 34 43 44 45\n",
            "  47 26 29 35 36 37 42 46 26 30 36 41 36 41 48 30 48 49]]\n",
            "[[ 0  1  1  4  7  8  8  9  9 10 10 11 11 13 16 17 18 21 21 23 25 25 25 26\n",
            "  26 26 28 28 28 30 31 31 32 32 35 36 36 36 38 39 39 42 42 42 43 43 45 45\n",
            "  47 47 47 47 48 48 48 48 49 49]\n",
            " [ 1  1  7  4  5  9  5  8  9 13 23 10 22 13 18 22 20 18 23 21 36 38 49 25\n",
            "  26 28 26 28 31 48 28 31 34 43 35 42 47 48 30 42 39 37 39 30 43 44 28 30\n",
            "  40 45 47 48 39 47 49 31 25 36]]\n",
            "[[1. 0. 0. 0. 0. 0. 0. 0. 0. 1.]\n",
            " [1. 0. 0. 0. 1. 0. 1. 0. 0. 0.]\n",
            " [0. 0. 1. 0. 0. 0. 0. 0. 0. 0.]\n",
            " [0. 0. 0. 1. 0. 0. 0. 1. 0. 0.]\n",
            " [0. 1. 0. 0. 0. 1. 0. 0. 0. 1.]\n",
            " [0. 0. 0. 0. 1. 1. 0. 1. 1. 0.]\n",
            " [0. 1. 0. 0. 0. 0. 1. 0. 0. 0.]\n",
            " [0. 1. 0. 1. 0. 0. 0. 1. 0. 0.]\n",
            " [0. 0. 0. 0. 0. 0. 0. 0. 1. 0.]\n",
            " [1. 0. 0. 0. 1. 0. 0. 0. 0. 0.]]\n"
          ]
        }
      ]
    },
    {
      "cell_type": "markdown",
      "source": [
        "# function for cf and etc."
      ],
      "metadata": {
        "id": "znLYeT1zsRW1"
      }
    },
    {
      "cell_type": "code",
      "source": [
        "def edge_convertor(edges):\n",
        "    temp = []\n",
        "    for i in range(len(edges[0])):\n",
        "        temp.append([edges[0][i],edges[1][i]])\n",
        "    return temp"
      ],
      "metadata": {
        "id": "rvbUgbgtsZkq"
      },
      "execution_count": 21,
      "outputs": []
    },
    {
      "cell_type": "code",
      "source": [
        "def negative_sampler(n1,edges,nodes):\n",
        "    \n",
        "    n2 = random.choice(nodes)\n",
        "    while [n1,n2] in edges:\n",
        "           \n",
        "        n2 = random.choice(nodes)\n",
        "    return [n1,n2]"
      ],
      "metadata": {
        "id": "6lHfY9vusVF8"
      },
      "execution_count": 22,
      "outputs": []
    },
    {
      "cell_type": "code",
      "source": [
        "def euclidean_distance(x,y):\n",
        "    return sum((x-y)**2)**0.5/(sum(abs(x))*sum(abs(y)))"
      ],
      "metadata": {
        "id": "CZoI0yOStPQc"
      },
      "execution_count": 23,
      "outputs": []
    },
    {
      "cell_type": "code",
      "source": [
        "def distance_ranker(item,l):\n",
        "    s = 1\n",
        "    for i in l:\n",
        "        if item>i:\n",
        "            s+=1 \n",
        "    return s"
      ],
      "metadata": {
        "id": "LhsP1aNLvnCM"
      },
      "execution_count": 24,
      "outputs": []
    },
    {
      "cell_type": "code",
      "source": [
        "raw_train,raw_test = train[:],test[:]  "
      ],
      "metadata": {
        "id": "aBvAVM-lwAap"
      },
      "execution_count": 25,
      "outputs": []
    },
    {
      "cell_type": "markdown",
      "source": [
        "#model 1: simple Cf"
      ],
      "metadata": {
        "id": "VeIv7wtcsNiT"
      }
    },
    {
      "cell_type": "code",
      "source": [
        "test = edge_convertor(raw_test)\n",
        "train = edge_convertor(raw_train)\n",
        "tt = test+train\n",
        "nodes = g.V\n",
        "top1 = 0\n",
        "top3 = 0\n",
        "avg = 0\n",
        "counter_=0\n",
        "for sample in tqdm(train):\n",
        "    pos = sample\n",
        "    negs = []\n",
        "    for i in range(10):\n",
        "        neg = negative_sampler(pos[0],tt,nodes)\n",
        "        negs.append(neg)\n",
        "    dp = euclidean_distance(etrain[pos[0]],etrain[pos[1]])\n",
        "    dn = [euclidean_distance(etrain[neg[0]],etrain[neg[1]]) for neg in negs]\n",
        "\n",
        "    r = distance_ranker(dp,dn)\n",
        "    if r<2:\n",
        "        top1+=1\n",
        "    if r<4:\n",
        "        top3+=1\n",
        "    avg+=r\n",
        "    counter_+=1\n",
        "\n",
        "print('\\ntrain:\\n',top1,top3,avg/counter_)\n",
        "\n",
        "top1 = 0\n",
        "top3 = 0\n",
        "avg = 0\n",
        "counter_=0\n",
        "for sample in tqdm(test):\n",
        "    pos = sample\n",
        "    negs = []\n",
        "    for i in range(10):\n",
        "        neg = negative_sampler(pos[0],tt,nodes)\n",
        "        negs.append(neg)\n",
        "    dp = euclidean_distance(etrain[pos[0]],etrain[pos[1]])\n",
        "    dn = [euclidean_distance(etrain[neg[0]],etrain[neg[1]]) for neg in negs]\n",
        "\n",
        "    r = distance_ranker(dp,dn)\n",
        "    if r<2:\n",
        "        top1+=1\n",
        "    if r<4:\n",
        "        top3+=1\n",
        "    avg+=r\n",
        "    counter_+=1\n",
        "\n",
        "print('\\ntest:\\n',top1,top3,avg/counter_)"
      ],
      "metadata": {
        "colab": {
          "base_uri": "https://localhost:8080/"
        },
        "id": "TIYo4aVprz0U",
        "outputId": "67cde1bf-4247-4eec-936a-80a3dd41433d"
      },
      "execution_count": 26,
      "outputs": [
        {
          "output_type": "stream",
          "name": "stderr",
          "text": [
            "100%|██████████| 186/186 [00:00<00:00, 2993.15it/s]\n"
          ]
        },
        {
          "output_type": "stream",
          "name": "stdout",
          "text": [
            "\n",
            "train:\n",
            " 106 149 2.521505376344086\n"
          ]
        },
        {
          "output_type": "stream",
          "name": "stderr",
          "text": [
            "100%|██████████| 58/58 [00:00<00:00, 2443.67it/s]"
          ]
        },
        {
          "output_type": "stream",
          "name": "stdout",
          "text": [
            "\n",
            "test:\n",
            " 28 36 3.4655172413793105\n"
          ]
        },
        {
          "output_type": "stream",
          "name": "stderr",
          "text": [
            "\n"
          ]
        }
      ]
    },
    {
      "cell_type": "markdown",
      "source": [
        "next phases\n",
        "* test light_GCN\n",
        "* test light_GCN with leakage\n",
        "* test GCN\n",
        "* test GCN with leakage"
      ],
      "metadata": {
        "id": "1r-SVrk_xtY5"
      }
    },
    {
      "cell_type": "markdown",
      "source": [
        "# *light_GCN*"
      ],
      "metadata": {
        "id": "PufJ-Bia1LOe"
      }
    },
    {
      "cell_type": "code",
      "source": [
        "g.VnV"
      ],
      "metadata": {
        "colab": {
          "base_uri": "https://localhost:8080/"
        },
        "id": "TuEaC4nU1oOx",
        "outputId": "68e3fb4c-c5f4-4eda-bd14-c11eea75a07b"
      },
      "execution_count": 27,
      "outputs": [
        {
          "output_type": "execute_result",
          "data": {
            "text/plain": [
              "[[0, 1, 9],\n",
              " [0, 1, 4, 6, 7],\n",
              " [2],\n",
              " [3, 7],\n",
              " [1, 4, 5, 9],\n",
              " [8, 4, 5, 7],\n",
              " [1, 6],\n",
              " [1, 3, 5, 7],\n",
              " [8, 9, 5],\n",
              " [0, 8, 4, 9],\n",
              " [10, 11, 13, 14, 15, 18, 19, 21, 23, 24],\n",
              " [17, 10, 11, 22],\n",
              " [12],\n",
              " [10, 13, 15, 21, 22, 23],\n",
              " [16, 24, 10, 14],\n",
              " [10, 13, 15],\n",
              " [16, 18, 21, 14],\n",
              " [11, 17, 20, 21, 22],\n",
              " [10, 16, 18, 20, 21],\n",
              " [24, 10, 19, 20],\n",
              " [17, 18, 19, 20],\n",
              " [10, 13, 16, 17, 18, 21, 23],\n",
              " [11, 13, 17, 22, 23],\n",
              " [10, 13, 21, 22, 23],\n",
              " [24, 10, 19, 14],\n",
              " [32, 36, 38, 49, 25, 26, 29, 30],\n",
              " [34, 38, 39, 40, 45, 46, 25, 26, 28, 30],\n",
              " [27],\n",
              " [32, 33, 37, 45, 26, 28, 31],\n",
              " [41, 43, 45, 25, 29],\n",
              " [35, 38, 42, 45, 46, 48, 25, 26, 30],\n",
              " [38, 40, 48, 28, 31],\n",
              " [32, 34, 43, 25, 28],\n",
              " [33, 35, 28],\n",
              " [32, 26, 44, 34],\n",
              " [33, 35, 40, 41, 46, 30],\n",
              " [36, 42, 46, 47, 48, 49, 25],\n",
              " [42, 28, 37, 46],\n",
              " [38, 25, 26, 30, 31],\n",
              " [48, 26, 42, 39],\n",
              " [35, 40, 47, 26, 31],\n",
              " [35, 41, 42, 44, 47, 48, 29],\n",
              " [36, 37, 39, 41, 42, 46, 30],\n",
              " [32, 43, 44, 29],\n",
              " [41, 34, 43, 44],\n",
              " [45, 47, 26, 28, 29, 30],\n",
              " [35, 36, 37, 42, 46, 26, 30],\n",
              " [36, 40, 41, 45, 47, 48],\n",
              " [36, 39, 41, 47, 48, 49, 30, 31],\n",
              " [48, 25, 36, 49]]"
            ]
          },
          "metadata": {},
          "execution_count": 27
        }
      ]
    },
    {
      "cell_type": "code",
      "source": [
        "etrain.shape"
      ],
      "metadata": {
        "colab": {
          "base_uri": "https://localhost:8080/"
        },
        "id": "wo4a1R3M3P_n",
        "outputId": "410af2ef-1423-449a-915a-08d49770a8fb"
      },
      "execution_count": 31,
      "outputs": [
        {
          "output_type": "execute_result",
          "data": {
            "text/plain": [
              "(50, 50)"
            ]
          },
          "metadata": {},
          "execution_count": 31
        }
      ]
    },
    {
      "cell_type": "code",
      "source": [
        "class LGCN:\n",
        "    def __init__(self):\n",
        "        pass\n",
        "\n",
        "    @staticmethod\n",
        "    def do(inmatrix,VE):\n",
        "        outmatrix = np.zeros((inmatrix.shape))\n",
        "        for i, v in enumerate(VE):\n",
        "            siz = len(v)\n",
        "            for j in v:\n",
        "                outmatrix[i]+=inmatrix[j]\n",
        "            outmatrix[i]/=siz\n",
        "        return outmatrix"
      ],
      "metadata": {
        "id": "g2UJ-Ors1KxP"
      },
      "execution_count": 32,
      "outputs": []
    },
    {
      "cell_type": "code",
      "source": [
        "epoch = 3\n",
        "etrain2 = np.copy(etrain)\n",
        "for i in tqdm(range(epoch)):\n",
        "    etrain2 = LGCN.do(etrain2,g.VnV)"
      ],
      "metadata": {
        "colab": {
          "base_uri": "https://localhost:8080/"
        },
        "id": "q69wVnDIvK3q",
        "outputId": "7cfa3200-2faa-4832-c6bf-5b069e9d1038"
      },
      "execution_count": 41,
      "outputs": [
        {
          "output_type": "stream",
          "name": "stderr",
          "text": [
            "100%|██████████| 3/3 [00:00<00:00, 1053.93it/s]\n"
          ]
        }
      ]
    },
    {
      "cell_type": "code",
      "source": [
        "test = edge_convertor(raw_test)\n",
        "train = edge_convertor(raw_train)\n",
        "tt = test+train\n",
        "nodes = g.V\n",
        "top1 = 0\n",
        "top3 = 0\n",
        "avg = 0\n",
        "counter_=0\n",
        "\n",
        "for sample in tqdm(train):\n",
        "    pos = sample\n",
        "    negs = []\n",
        "    for i in range(10):\n",
        "        neg = negative_sampler(pos[0],tt,nodes)\n",
        "        negs.append(neg)\n",
        "    dp = euclidean_distance(etrain2[pos[0]],etrain2[pos[1]])\n",
        "    dn = [euclidean_distance(etrain2[neg[0]],etrain2[neg[1]]) for neg in negs]\n",
        "\n",
        "    r = distance_ranker(dp,dn)\n",
        "    if r<2:\n",
        "        top1+=1\n",
        "    if r<4:\n",
        "        top3+=1\n",
        "    avg+=r\n",
        "    counter_+=1\n",
        "\n",
        "print('\\ntrain:\\n',top1,top3,avg/counter_)\n",
        "\n",
        "top1 = 0\n",
        "top3 = 0\n",
        "avg = 0\n",
        "counter_=0\n",
        "for sample in tqdm(test):\n",
        "    pos = sample\n",
        "    negs = []\n",
        "    for i in range(10):\n",
        "        neg = negative_sampler(pos[0],tt,nodes)\n",
        "        negs.append(neg)\n",
        "    dp = euclidean_distance(etrain2[pos[0]],etrain2[pos[1]])\n",
        "    dn = [euclidean_distance(etrain2[neg[0]],etrain2[neg[1]]) for neg in negs]\n",
        "\n",
        "    r = distance_ranker(dp,dn)\n",
        "    if r<2:\n",
        "        top1+=1\n",
        "    if r<4:\n",
        "        top3+=1\n",
        "    avg+=r\n",
        "    counter_+=1\n",
        "\n",
        "print('\\ntest:\\n',top1,top3,avg/counter_)"
      ],
      "metadata": {
        "colab": {
          "base_uri": "https://localhost:8080/"
        },
        "id": "7OOwxP-KvVwx",
        "outputId": "d30cf185-ddb7-45f4-f584-298bc999c134"
      },
      "execution_count": 42,
      "outputs": [
        {
          "output_type": "stream",
          "name": "stderr",
          "text": [
            "100%|██████████| 186/186 [00:00<00:00, 1463.25it/s]\n"
          ]
        },
        {
          "output_type": "stream",
          "name": "stdout",
          "text": [
            "\n",
            "train:\n",
            " 154 181 1.3010752688172043\n"
          ]
        },
        {
          "output_type": "stream",
          "name": "stderr",
          "text": [
            "100%|██████████| 58/58 [00:00<00:00, 1494.29it/s]"
          ]
        },
        {
          "output_type": "stream",
          "name": "stdout",
          "text": [
            "\n",
            "test:\n",
            " 50 57 1.1896551724137931\n"
          ]
        },
        {
          "output_type": "stream",
          "name": "stderr",
          "text": [
            "\n"
          ]
        }
      ]
    },
    {
      "cell_type": "markdown",
      "source": [
        "# light_GCN with leakage"
      ],
      "metadata": {
        "id": "h9nZoekQ48O-"
      }
    },
    {
      "cell_type": "code",
      "source": [
        "class LGCNwL:\n",
        "    def __init__(self):\n",
        "        pass\n",
        "    @staticmethod\n",
        "    def new_neg_vic(inmatrix,VE,leakageratio,lambdaa,cc):\n",
        "        for c1 in cc:\n",
        "             if leakageratio>random.random():\n",
        "                c2 = random.choice(cc)\n",
        "                while c2 != c1:\n",
        "                    c2 = random.choice(cc)\n",
        "                    \n",
        "                v1 = random.choice(c1)\n",
        "                v2 = random.choice(c2)\n",
        "                temp = inmatrix[v1][:]\n",
        "                inmatrix[v1] -= lambdaa*inmatrix[v2]\n",
        "                inmatrix[v2] -= lambdaa*temp\n",
        "        \n",
        "        return inmatrix\n",
        "\n",
        "    @staticmethod\n",
        "    def do(inmatrix,VE,cc,leakageratio=0.3,lambdaa=0.1):\n",
        "        outmatrix = np.zeros((inmatrix.shape))\n",
        "        inmatrix2 = LGCNwL.new_neg_vic(np.copy(inmatrix),VE,leakageratio,lambdaa,cc)\n",
        "      \n",
        "        for i, v in enumerate(VE):\n",
        "            siz = len(v)\n",
        "            for j in v:\n",
        "                outmatrix[i]+=inmatrix2[j]\n",
        "            outmatrix[i]/=siz\n",
        "        return outmatrix"
      ],
      "metadata": {
        "id": "HO3h8pMtvWt5"
      },
      "execution_count": 53,
      "outputs": []
    },
    {
      "cell_type": "code",
      "source": [
        "epoch = 100\n",
        "etrain2 = np.copy(etrain)\n",
        "for i in tqdm(range(epoch)):\n",
        "    etrain2 = LGCNwL.do(etrain2,g.VnV,g.cc,leakageratio=0.1,lambdaa=0.1)"
      ],
      "metadata": {
        "id": "_p-rt5OuvXqi",
        "colab": {
          "base_uri": "https://localhost:8080/"
        },
        "outputId": "3ffb4b75-c08c-46c3-9235-e9e9839eeeef"
      },
      "execution_count": 58,
      "outputs": [
        {
          "output_type": "stream",
          "name": "stderr",
          "text": [
            "100%|██████████| 100/100 [00:00<00:00, 2226.43it/s]\n"
          ]
        }
      ]
    },
    {
      "cell_type": "code",
      "source": [
        "test = edge_convertor(raw_test)\n",
        "train = edge_convertor(raw_train)\n",
        "tt = test+train\n",
        "nodes = g.V\n",
        "top1 = 0\n",
        "top3 = 0\n",
        "avg = 0\n",
        "counter_=0\n",
        "\n",
        "for sample in tqdm(train):\n",
        "    pos = sample\n",
        "    negs = []\n",
        "    for i in range(10):\n",
        "        neg = negative_sampler(pos[0],tt,nodes)\n",
        "        negs.append(neg)\n",
        "    dp = euclidean_distance(etrain2[pos[0]],etrain2[pos[1]])\n",
        "    dn = [euclidean_distance(etrain2[neg[0]],etrain2[neg[1]]) for neg in negs]\n",
        "\n",
        "    r = distance_ranker(dp,dn)\n",
        "    if r<2:\n",
        "        top1+=1\n",
        "    if r<4:\n",
        "        top3+=1\n",
        "    avg+=r\n",
        "    counter_+=1\n",
        "\n",
        "print('\\ntrain:\\n',top1,top3,avg/counter_)\n",
        "\n",
        "top1 = 0\n",
        "top3 = 0\n",
        "avg = 0\n",
        "counter_=0\n",
        "for sample in tqdm(test):\n",
        "    pos = sample\n",
        "    negs = []\n",
        "    for i in range(10):\n",
        "        neg = negative_sampler(pos[0],tt,nodes)\n",
        "        negs.append(neg)\n",
        "    dp = euclidean_distance(etrain2[pos[0]],etrain2[pos[1]])\n",
        "    dn = [euclidean_distance(etrain2[neg[0]],etrain2[neg[1]]) for neg in negs]\n",
        "\n",
        "    r = distance_ranker(dp,dn)\n",
        "    if r<2:\n",
        "        top1+=1\n",
        "    if r<4:\n",
        "        top3+=1\n",
        "    avg+=r\n",
        "    counter_+=1\n",
        "\n",
        "print('\\ntest:\\n',top1,top3,avg/counter_)"
      ],
      "metadata": {
        "colab": {
          "base_uri": "https://localhost:8080/"
        },
        "id": "5MBoiADh8oBt",
        "outputId": "fb131fcd-8a30-4b1a-aee8-4e67a08b6971"
      },
      "execution_count": 59,
      "outputs": [
        {
          "output_type": "stream",
          "name": "stderr",
          "text": [
            "100%|██████████| 186/186 [00:00<00:00, 3057.23it/s]\n"
          ]
        },
        {
          "output_type": "stream",
          "name": "stdout",
          "text": [
            "\n",
            "train:\n",
            " 92 155 2.096774193548387\n"
          ]
        },
        {
          "output_type": "stream",
          "name": "stderr",
          "text": [
            "100%|██████████| 58/58 [00:00<00:00, 2689.34it/s]"
          ]
        },
        {
          "output_type": "stream",
          "name": "stdout",
          "text": [
            "\n",
            "test:\n",
            " 24 47 2.706896551724138\n"
          ]
        },
        {
          "output_type": "stream",
          "name": "stderr",
          "text": [
            "\n"
          ]
        }
      ]
    },
    {
      "cell_type": "markdown",
      "source": [
        "***50 node 3 component***\n",
        "\n",
        "*top1,top3,avg:*\n",
        "\n",
        "**simple cf**\n",
        "* train:\n",
        " 106 149 2.52\n",
        "* test:\n",
        " 28 36 3.46\n",
        "\n",
        "**LGCN 10 layer**\n",
        "* train: \n",
        " 154 181 1.30\n",
        "* test: \n",
        " 50 57 1.18\n",
        "\n",
        "**LGCN 10 layer**\n",
        "* train: \n",
        "133 172 1.53\n",
        "* test:\n",
        " 47 57 1.31\n",
        "\n",
        "**LGCN 100 layer**\n",
        "* train:\n",
        " 132 174 1.52\n",
        "* test:\n",
        " 43 55 1.44\n",
        "\n",
        "**LGCNwL 3 layer leakageratio=1 lambdaa=0.1**\n",
        "* train:\n",
        " 88 151 2.29\n",
        "* test:\n",
        " 25 46 2.51"
      ],
      "metadata": {
        "id": "Fisw1bnf38zw"
      }
    },
    {
      "cell_type": "code",
      "source": [
        "len(g.cc)"
      ],
      "metadata": {
        "colab": {
          "base_uri": "https://localhost:8080/"
        },
        "id": "7-ujyLBk9CNF",
        "outputId": "8a7a4898-8ac2-4fd8-cab3-63fd60f59188"
      },
      "execution_count": 60,
      "outputs": [
        {
          "output_type": "execute_result",
          "data": {
            "text/plain": [
              "3"
            ]
          },
          "metadata": {},
          "execution_count": 60
        }
      ]
    },
    {
      "cell_type": "code",
      "source": [],
      "metadata": {
        "id": "VxHahMjJ-Mb1"
      },
      "execution_count": null,
      "outputs": []
    }
  ]
}