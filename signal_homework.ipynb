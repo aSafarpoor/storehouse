{
  "nbformat": 4,
  "nbformat_minor": 0,
  "metadata": {
    "colab": {
      "provenance": [],
      "private_outputs": true,
      "authorship_tag": "ABX9TyPfIABYPNiRLtbiSb8pL8hN",
      "include_colab_link": true
    },
    "kernelspec": {
      "name": "python3",
      "display_name": "Python 3"
    },
    "language_info": {
      "name": "python"
    },
    "gpuClass": "standard"
  },
  "cells": [
    {
      "cell_type": "markdown",
      "metadata": {
        "id": "view-in-github",
        "colab_type": "text"
      },
      "source": [
        "<a href=\"https://colab.research.google.com/github/aSafarpoor/storehouse/blob/main/signal_homework.ipynb\" target=\"_parent\"><img src=\"https://colab.research.google.com/assets/colab-badge.svg\" alt=\"Open In Colab\"/></a>"
      ]
    },
    {
      "cell_type": "code",
      "source": [
        "import matplotlib.pyplot as plt\n",
        "import numpy as np\n",
        "from scipy.signal import square,sawtooth\n",
        "from math import cos"
      ],
      "metadata": {
        "id": "njbX49Kbuy5Z"
      },
      "execution_count": null,
      "outputs": []
    },
    {
      "cell_type": "code",
      "execution_count": null,
      "metadata": {
        "id": "4y3xpIGKuvTY"
      },
      "outputs": [],
      "source": [
        "L=1\n",
        "x=np.arange(-L,L,0.001)\n",
        "ysquare=square(2*np.pi*x)\n",
        "plt.plot(x,ysquare,'r--')\n",
        "plt.title(\"fourier series for square wave \")\n",
        "plt.grid()\n",
        "plt.show()"
      ]
    },
    {
      "cell_type": "code",
      "source": [
        "ytriangle = sawtooth(2 * np.pi  * x, 0.5)\n",
        "plt.plot(x,ytriangle,'r--')\n",
        "plt.title(\"fourier series for triangle wave \")\n",
        "plt.grid()\n",
        "plt.show()"
      ],
      "metadata": {
        "id": "Fa5se5I80zdI"
      },
      "execution_count": null,
      "outputs": []
    },
    {
      "cell_type": "code",
      "source": [
        "a = np.zeros(30)\n",
        "a[0] = 1\n",
        "for i in range(1,30):\n",
        "    a[i] = (2/(i*i*np.pi**2))*(cos(np.pi*i-1))"
      ],
      "metadata": {
        "id": "vBnovaBhu684"
      },
      "execution_count": null,
      "outputs": []
    },
    {
      "cell_type": "code",
      "source": [
        "plt.bar(list(range(30)),a,width = 0.4)\n",
        "plt.title('Fourier series coefficients')\n",
        "plt.show()"
      ],
      "metadata": {
        "id": "6aPg9QljvAPY"
      },
      "execution_count": null,
      "outputs": []
    },
    {
      "cell_type": "code",
      "source": [
        "plt.bar(list(range(5)),a[:5],width = 0.4)\n",
        "plt.title('Fourier series coefficients')\n",
        "plt.show()"
      ],
      "metadata": {
        "id": "CpgDGJO73pel"
      },
      "execution_count": null,
      "outputs": []
    },
    {
      "cell_type": "code",
      "source": [
        "plt.bar(list(range(1,30)),a[1:],width = 0.4)\n",
        "plt.title('Fourier series coefficients')\n",
        "plt.show()"
      ],
      "metadata": {
        "id": "ZrMg1jeL4EuH"
      },
      "execution_count": null,
      "outputs": []
    },
    {
      "cell_type": "code",
      "source": [
        "plt.bar(list(range(30)),np.log(np.abs(a)),width = 0.4)\n",
        "plt.title('Fourier series coefficients/ logarithmic of absolute values of bar chart')\n",
        "plt.show()"
      ],
      "metadata": {
        "id": "nm3vtjqZ4Jnt"
      },
      "execution_count": null,
      "outputs": []
    },
    {
      "cell_type": "markdown",
      "source": [
        "# discrete part"
      ],
      "metadata": {
        "id": "9lyOw2uy4oyW"
      }
    },
    {
      "cell_type": "code",
      "source": [
        "L=1\n",
        "x=np.arange(-L,L,0.1)\n",
        "ytriangle = sawtooth(2 * np.pi  * x, 0.5)\n",
        "plt.bar(x,ytriangle,width=0.03,color='red')\n",
        "plt.title(\"discrete triangle wave \")\n",
        "plt.grid()\n",
        "plt.show()"
      ],
      "metadata": {
        "id": "Vl8sXxWT4Q79"
      },
      "execution_count": null,
      "outputs": []
    },
    {
      "cell_type": "code",
      "source": [
        "from scipy.fft import fft, ifft\n",
        "import numpy as np\n",
        "yfft = fft(ytriangle)\n",
        "plt.bar(x,yfft,width=0.03,color='red')\n",
        "plt.title(\"after fft\")\n",
        "plt.grid()\n",
        "plt.show()"
      ],
      "metadata": {
        "id": "ARVgXH6x4x8P"
      },
      "execution_count": null,
      "outputs": []
    },
    {
      "cell_type": "code",
      "source": [],
      "metadata": {
        "id": "4I4qmgwA7B3f"
      },
      "execution_count": null,
      "outputs": []
    }
  ]
}