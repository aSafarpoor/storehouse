{
  "cells": [
    {
      "cell_type": "markdown",
      "metadata": {
        "id": "view-in-github",
        "colab_type": "text"
      },
      "source": [
        "<a href=\"https://colab.research.google.com/github/aSafarpoor/storehouse/blob/main/test_1_for_DeepWalk_and_node2vec.ipynb\" target=\"_parent\"><img src=\"https://colab.research.google.com/assets/colab-badge.svg\" alt=\"Open In Colab\"/></a>"
      ]
    },
    {
      "cell_type": "markdown",
      "source": [
        "source: https://colab.research.google.com/github/AntonioLonga/PytorchGeometricTutorial/blob/main/Tutorial11/Tutorial11.ipynb"
      ],
      "metadata": {
        "id": "jA5GMaS5RqzQ"
      }
    },
    {
      "cell_type": "markdown",
      "metadata": {
        "id": "cxka6QF4Ra8b"
      },
      "source": [
        "# Tutorial 11: DeepWalk and node2vec - Implementation details\n",
        "  \n",
        "\n",
        "Paper:\n",
        "* [DeepWalk: Online Learning of Social Representation](https://arxiv.org/pdf/1403.6652.pdf)  \n",
        "* [node2vec: Scalable Feature Learning for Networks](https://arxiv.org/pdf/1607.00653.pdf)  \n",
        "\n",
        "Code:\n",
        "\n",
        " * [node2vec doc](https://pytorch-geometric.readthedocs.io/en/latest/modules/nn.html?highlight=node2vec#torch_geometric.nn.models.Node2Vec)\n",
        " * [node2vec code](https://pytorch-geometric.readthedocs.io/en/latest/_modules/torch_geometric/nn/models/node2vec.html)\n",
        " * [Example on clustering](https://github.com/rusty1s/pytorch_geometric/blob/master/examples/node2vec.py)"
      ]
    },
    {
      "cell_type": "markdown",
      "metadata": {
        "id": "78rWybQGRa8g"
      },
      "source": [
        "# Setup"
      ]
    },
    {
      "cell_type": "code",
      "source": [
        "import warnings\n",
        "warnings.filterwarnings(\"ignore\")"
      ],
      "metadata": {
        "id": "FW5NkO7Wi2a0"
      },
      "execution_count": 1,
      "outputs": []
    },
    {
      "cell_type": "code",
      "execution_count": 2,
      "metadata": {
        "id": "fvvQLV5rRa8h"
      },
      "outputs": [],
      "source": [
        "# !pip install -q torch-scatter -f https://data.pyg.org/whl/torch-1.10.0+cu113.html\n",
        "# !pip install -q torch-sparse -f https://data.pyg.org/whl/torch-1.10.0+cu113.html\n",
        "# !pip install -q git+https://github.com/pyg-team/pytorch_geometric.git"
      ]
    },
    {
      "cell_type": "code",
      "source": [
        "from IPython.display import Javascript  # Restrict height of output cell.\n",
        "display(Javascript('''google.colab.output.setIframeHeight(0, true, {maxHeight: 100})'''))\n",
        "\n",
        "import torch\n",
        "\n",
        "def format_pytorch_version(version):\n",
        "  return version.split('+')[0]\n",
        "\n",
        "TORCH_version = torch.__version__\n",
        "TORCH = format_pytorch_version(TORCH_version)\n",
        "\n",
        "def format_cuda_version(version):\n",
        "  return 'cu' + version.replace('.', '')\n",
        "\n",
        "CUDA_version = torch.version.cuda\n",
        "CUDA = format_cuda_version(CUDA_version)\n",
        "\n",
        "!pip install torch-scatter     -f https://pytorch-geometric.com/whl/torch-{TORCH}+{CUDA}.html\n",
        "!pip install torch-sparse      -f https://pytorch-geometric.com/whl/torch-{TORCH}+{CUDA}.html\n",
        "!pip install torch-cluster     -f https://pytorch-geometric.com/whl/torch-{TORCH}+{CUDA}.html\n",
        "!pip install torch-spline-conv -f https://pytorch-geometric.com/whl/torch-{TORCH}+{CUDA}.html\n",
        "!pip install torch-geometric"
      ],
      "metadata": {
        "colab": {
          "base_uri": "https://localhost:8080/",
          "height": 100
        },
        "id": "GONAQXFxeGD3",
        "outputId": "9669b9ee-2d77-4e44-85a9-cf178f4a7b98"
      },
      "execution_count": 3,
      "outputs": [
        {
          "output_type": "display_data",
          "data": {
            "text/plain": [
              "<IPython.core.display.Javascript object>"
            ],
            "application/javascript": [
              "google.colab.output.setIframeHeight(0, true, {maxHeight: 100})"
            ]
          },
          "metadata": {}
        },
        {
          "output_type": "stream",
          "name": "stdout",
          "text": [
            "Looking in indexes: https://pypi.org/simple, https://us-python.pkg.dev/colab-wheels/public/simple/\n",
            "Looking in links: https://pytorch-geometric.com/whl/torch-1.12.1+cu113.html\n",
            "Requirement already satisfied: torch-scatter in /usr/local/lib/python3.7/dist-packages (2.0.9)\n",
            "Looking in indexes: https://pypi.org/simple, https://us-python.pkg.dev/colab-wheels/public/simple/\n",
            "Looking in links: https://pytorch-geometric.com/whl/torch-1.12.1+cu113.html\n",
            "Requirement already satisfied: torch-sparse in /usr/local/lib/python3.7/dist-packages (0.6.15)\n",
            "Requirement already satisfied: scipy in /usr/local/lib/python3.7/dist-packages (from torch-sparse) (1.7.3)\n",
            "Requirement already satisfied: numpy<1.23.0,>=1.16.5 in /usr/local/lib/python3.7/dist-packages (from scipy->torch-sparse) (1.21.6)\n",
            "Looking in indexes: https://pypi.org/simple, https://us-python.pkg.dev/colab-wheels/public/simple/\n",
            "Looking in links: https://pytorch-geometric.com/whl/torch-1.12.1+cu113.html\n",
            "Requirement already satisfied: torch-cluster in /usr/local/lib/python3.7/dist-packages (1.6.0)\n",
            "Looking in indexes: https://pypi.org/simple, https://us-python.pkg.dev/colab-wheels/public/simple/\n",
            "Looking in links: https://pytorch-geometric.com/whl/torch-1.12.1+cu113.html\n",
            "Requirement already satisfied: torch-spline-conv in /usr/local/lib/python3.7/dist-packages (1.2.1)\n",
            "Looking in indexes: https://pypi.org/simple, https://us-python.pkg.dev/colab-wheels/public/simple/\n",
            "Requirement already satisfied: torch-geometric in /usr/local/lib/python3.7/dist-packages (2.1.0.post1)\n",
            "Requirement already satisfied: scipy in /usr/local/lib/python3.7/dist-packages (from torch-geometric) (1.7.3)\n",
            "Requirement already satisfied: scikit-learn in /usr/local/lib/python3.7/dist-packages (from torch-geometric) (1.0.2)\n",
            "Requirement already satisfied: requests in /usr/local/lib/python3.7/dist-packages (from torch-geometric) (2.23.0)\n",
            "Requirement already satisfied: tqdm in /usr/local/lib/python3.7/dist-packages (from torch-geometric) (4.64.1)\n",
            "Requirement already satisfied: pyparsing in /usr/local/lib/python3.7/dist-packages (from torch-geometric) (3.0.9)\n",
            "Requirement already satisfied: jinja2 in /usr/local/lib/python3.7/dist-packages (from torch-geometric) (2.11.3)\n",
            "Requirement already satisfied: numpy in /usr/local/lib/python3.7/dist-packages (from torch-geometric) (1.21.6)\n",
            "Requirement already satisfied: MarkupSafe>=0.23 in /usr/local/lib/python3.7/dist-packages (from jinja2->torch-geometric) (2.0.1)\n",
            "Requirement already satisfied: chardet<4,>=3.0.2 in /usr/local/lib/python3.7/dist-packages (from requests->torch-geometric) (3.0.4)\n",
            "Requirement already satisfied: certifi>=2017.4.17 in /usr/local/lib/python3.7/dist-packages (from requests->torch-geometric) (2022.6.15)\n",
            "Requirement already satisfied: idna<3,>=2.5 in /usr/local/lib/python3.7/dist-packages (from requests->torch-geometric) (2.10)\n",
            "Requirement already satisfied: urllib3!=1.25.0,!=1.25.1,<1.26,>=1.21.1 in /usr/local/lib/python3.7/dist-packages (from requests->torch-geometric) (1.24.3)\n",
            "Requirement already satisfied: joblib>=0.11 in /usr/local/lib/python3.7/dist-packages (from scikit-learn->torch-geometric) (1.1.0)\n",
            "Requirement already satisfied: threadpoolctl>=2.0.0 in /usr/local/lib/python3.7/dist-packages (from scikit-learn->torch-geometric) (3.1.0)\n"
          ]
        }
      ]
    },
    {
      "cell_type": "code",
      "execution_count": 4,
      "metadata": {
        "id": "fAOWkqHzRa8j"
      },
      "outputs": [],
      "source": [
        "from torch_geometric.nn import Node2Vec\n",
        "import os.path as osp\n",
        "import torch\n",
        "import matplotlib.pyplot as plt\n",
        "from sklearn.manifold import TSNE\n",
        "from torch_geometric.datasets import Planetoid\n",
        "from tqdm.notebook import tqdm\n",
        "import numpy as np"
      ]
    },
    {
      "cell_type": "code",
      "execution_count": 5,
      "metadata": {
        "id": "3kXG2h8cRa8j"
      },
      "outputs": [],
      "source": [
        "# dataset = 'Cora'\n",
        "# path = osp.join('.', 'data', dataset)\n",
        "# dataset = Planetoid(path, dataset)\n",
        "# data = dataset[0]\n",
        "from torch_geometric.transforms import NormalizeFeatures\n",
        "\n",
        "dataset = Planetoid(root='data/Planetoid', name='Cora', transform=NormalizeFeatures())\n",
        "data = dataset[0]"
      ]
    },
    {
      "cell_type": "code",
      "execution_count": 6,
      "metadata": {
        "id": "hwalof73Ra8k"
      },
      "outputs": [],
      "source": [
        "device = 'cuda' if torch.cuda.is_available() else 'cpu'\n",
        "model = Node2Vec(data.edge_index, embedding_dim=128, \n",
        "                 walk_length=20,                        # lenght of rw\n",
        "                 context_size=10, walks_per_node=20,\n",
        "                 num_negative_samples=1, \n",
        "                 p=200, q=1,                             # bias parameters\n",
        "                 sparse=True).to(device)"
      ]
    },
    {
      "cell_type": "code",
      "source": [
        "data"
      ],
      "metadata": {
        "colab": {
          "base_uri": "https://localhost:8080/"
        },
        "id": "u77TcoVoeglA",
        "outputId": "6c745533-139e-45d4-b3d9-c12bd6a5f0ae"
      },
      "execution_count": 7,
      "outputs": [
        {
          "output_type": "execute_result",
          "data": {
            "text/plain": [
              "Data(x=[2708, 1433], edge_index=[2, 10556], y=[2708], train_mask=[2708], val_mask=[2708], test_mask=[2708])"
            ]
          },
          "metadata": {},
          "execution_count": 7
        }
      ]
    },
    {
      "cell_type": "markdown",
      "metadata": {
        "id": "9b8BqD6jRa8k"
      },
      "source": [
        "# Random walks"
      ]
    },
    {
      "cell_type": "markdown",
      "metadata": {
        "id": "AwMktK9ARa8l"
      },
      "source": [
        "### The data loader"
      ]
    },
    {
      "cell_type": "code",
      "execution_count": 8,
      "metadata": {
        "id": "bST7Oen6Ra8m"
      },
      "outputs": [],
      "source": [
        "# loader = model.loader(batch_size=128, shuffle=True, num_workers=4)"
      ]
    },
    {
      "cell_type": "markdown",
      "metadata": {
        "id": "sx77gitoRa8q"
      },
      "source": [
        "# Training"
      ]
    },
    {
      "cell_type": "markdown",
      "metadata": {
        "id": "4nDQHsCjRa8q"
      },
      "source": [
        "### Model definition"
      ]
    },
    {
      "cell_type": "code",
      "execution_count": 9,
      "metadata": {
        "id": "pJm71EY4Ra8r"
      },
      "outputs": [],
      "source": [
        "model = Node2Vec(data.edge_index, embedding_dim=128, walk_length=20,\n",
        "                 context_size=10, walks_per_node=10,\n",
        "                 num_negative_samples=10, p=1, q=1, sparse=True).to(device)\n",
        "\n",
        "loader = model.loader(batch_size=128, shuffle=True, num_workers=4)\n",
        "optimizer = torch.optim.SparseAdam(list(model.parameters()), lr=0.01)"
      ]
    },
    {
      "cell_type": "markdown",
      "metadata": {
        "id": "b7gMWd36Ra8r"
      },
      "source": [
        "### Training function"
      ]
    },
    {
      "cell_type": "code",
      "execution_count": 10,
      "metadata": {
        "id": "-8Lv6VNHRa8r"
      },
      "outputs": [],
      "source": [
        "def train():\n",
        "    model.train()\n",
        "    total_loss = 0\n",
        "    for pos_rw, neg_rw in loader:\n",
        "        optimizer.zero_grad()\n",
        "        loss = model.loss(pos_rw.to(device), neg_rw.to(device))\n",
        "        loss.backward()\n",
        "        optimizer.step()\n",
        "        total_loss += loss.item()\n",
        "    return total_loss / len(loader)"
      ]
    },
    {
      "cell_type": "markdown",
      "metadata": {
        "id": "HOtjNV_nRa8s"
      },
      "source": [
        "### Test function"
      ]
    },
    {
      "cell_type": "code",
      "execution_count": 11,
      "metadata": {
        "id": "wVQD1ZzlRa8s",
        "colab": {
          "base_uri": "https://localhost:8080/"
        },
        "outputId": "d9c4eb90-7d3b-4f15-c551-bb6966cbda0d"
      },
      "outputs": [
        {
          "output_type": "execute_result",
          "data": {
            "text/plain": [
              "Data(x=[2708, 1433], edge_index=[2, 10556], y=[2708], train_mask=[2708], val_mask=[2708], test_mask=[2708])"
            ]
          },
          "metadata": {},
          "execution_count": 11
        }
      ],
      "source": [
        "data"
      ]
    },
    {
      "cell_type": "code",
      "execution_count": 12,
      "metadata": {
        "id": "rjAg0jyWRa8s",
        "colab": {
          "base_uri": "https://localhost:8080/"
        },
        "outputId": "a4b1be1e-cc99-4952-f251-fce03e759a24"
      },
      "outputs": [
        {
          "output_type": "execute_result",
          "data": {
            "text/plain": [
              "tensor([3, 4, 4,  ..., 3, 3, 3])"
            ]
          },
          "metadata": {},
          "execution_count": 12
        }
      ],
      "source": [
        "data.y"
      ]
    },
    {
      "cell_type": "code",
      "execution_count": 13,
      "metadata": {
        "id": "yIL5fgcWRa8t",
        "colab": {
          "base_uri": "https://localhost:8080/"
        },
        "outputId": "321300bb-3ae5-4491-83b0-5f784b5b4249"
      },
      "outputs": [
        {
          "output_type": "execute_result",
          "data": {
            "text/plain": [
              "tensor([0, 1, 2, 3, 4, 5, 6])"
            ]
          },
          "metadata": {},
          "execution_count": 13
        }
      ],
      "source": [
        "data.y.unique()"
      ]
    },
    {
      "cell_type": "code",
      "execution_count": 14,
      "metadata": {
        "id": "aUb45AVoRa8t"
      },
      "outputs": [],
      "source": [
        "@torch.no_grad()\n",
        "def test():\n",
        "    model.eval()\n",
        "    z = model()\n",
        "    # return z\n",
        "    acc = model.test(z[data.train_mask], data.y[data.train_mask],\n",
        "                     z[data.test_mask], data.y[data.test_mask],\n",
        "                     max_iter=150)\n",
        "    return acc\n",
        "\n",
        "# z = test()"
      ]
    },
    {
      "cell_type": "code",
      "source": [
        "@torch.no_grad()\n",
        "def test2():\n",
        "    model.eval()\n",
        "    out = model()\n",
        "\n",
        "    true2 = 0\n",
        "\n",
        "    acc2 = -1\n",
        "\n",
        "    #acc1: simple format\n",
        "    pred = out.argmax(dim=1)  # Use the class with highest probability.\n",
        "\n",
        "    data.cuda()\n",
        "\n",
        "    bad = 0\n",
        "    good = 0\n",
        "\n",
        "    #acc2: weighted_avg_arg_max:\n",
        "    for clas in redunclass:\n",
        "        a = out[clas[0]]\n",
        "        a = torch.tensor(a, requires_grad=True)\n",
        "        acctemp = 0\n",
        "        d = 1\n",
        "        for clasi in clas[1:]:\n",
        "            out[clasi] = torch.tensor(out[clasi], requires_grad=True)\n",
        "            a += out[clasi]\n",
        "            d+=1\n",
        "        a/=d\n",
        "        \n",
        "        try:\n",
        "            out[data.test_mask][clas[0]] = d\n",
        "            temp2 = model.test(out[data.train_mask], data.y[data.train_mask],\n",
        "                        out[data.test_mask][clas[0]:clas[0]+1], data.y[data.test_mask][clas[0]:clas[0]+1],\n",
        "                        max_iter=150)\n",
        "            acctemp += temp2\n",
        "                \n",
        "            if acctemp:\n",
        "                true2 += 1\n",
        "            good+=1\n",
        "        except:\n",
        "            bad+=1\n",
        "\n",
        "    acc2 = true2/good\n",
        "\n",
        "    print(bad,good,acc2)\n",
        "    return(acc2)"
      ],
      "metadata": {
        "id": "_MX45of3wiNt"
      },
      "execution_count": 15,
      "outputs": []
    },
    {
      "cell_type": "markdown",
      "metadata": {
        "id": "mRgws2cERa8t"
      },
      "source": [
        "### Training"
      ]
    },
    {
      "cell_type": "code",
      "execution_count": 16,
      "metadata": {
        "id": "TVpSXJfTRa8t",
        "colab": {
          "base_uri": "https://localhost:8080/",
          "height": 240,
          "referenced_widgets": [
            "5bf3db40428e49b1b84599aa0e5e227a",
            "8706e7f83bb4457f87664abdf796a9d4",
            "baae83eaafe645eca3ff816d906ae4e1",
            "cf3c2a5f443a4fe59aa255191da275cd",
            "ff51405376de47f5b8c818a538c817df",
            "28b55deac1754e20a0fc2280ca26809f",
            "b6432ca599ca472db22e913d48c5962b",
            "31f72d8a3752485b94d9e377151e7fc6",
            "b92337a7c3bc40b1b0266926a4a5224f",
            "f3e0348f35074f0fa9e12ed28c4cc356",
            "34cb28199d0e42a899bf688a4c8a25a2"
          ]
        },
        "outputId": "a7bb5698-9b72-46c0-f379-aa5defe234d9"
      },
      "outputs": [
        {
          "output_type": "display_data",
          "data": {
            "text/plain": [
              "<IPython.core.display.Javascript object>"
            ],
            "application/javascript": [
              "google.colab.output.setIframeHeight(0, true, {maxHeight: 300})"
            ]
          },
          "metadata": {}
        },
        {
          "output_type": "display_data",
          "data": {
            "text/plain": [
              "  0%|          | 0/100 [00:00<?, ?it/s]"
            ],
            "application/vnd.jupyter.widget-view+json": {
              "version_major": 2,
              "version_minor": 0,
              "model_id": "5bf3db40428e49b1b84599aa0e5e227a"
            }
          },
          "metadata": {}
        },
        {
          "output_type": "stream",
          "name": "stdout",
          "text": [
            "Epoch: 01, Loss: 8.0258, Acc: 0.1510\n",
            "Epoch: 10, Loss: 1.4558, Acc: 0.4550\n",
            "Epoch: 20, Loss: 0.9266, Acc: 0.6290\n",
            "Epoch: 30, Loss: 0.8580, Acc: 0.6960\n",
            "Epoch: 40, Loss: 0.8380, Acc: 0.7190\n",
            "Epoch: 50, Loss: 0.8308, Acc: 0.7270\n",
            "Epoch: 60, Loss: 0.8270, Acc: 0.7280\n",
            "Epoch: 70, Loss: 0.8248, Acc: 0.7170\n",
            "Epoch: 80, Loss: 0.8237, Acc: 0.7170\n",
            "Epoch: 90, Loss: 0.8220, Acc: 0.7090\n",
            "Epoch: 100, Loss: 0.8229, Acc: 0.7030\n"
          ]
        }
      ],
      "source": [
        "from IPython.display import Javascript  # Restrict height of output cell.\n",
        "display(Javascript('''google.colab.output.setIframeHeight(0, true, {maxHeight: 300})'''))\n",
        "\n",
        "acclist1 = []\n",
        "\n",
        "\n",
        "for epoch in tqdm(range(1, 101)):\n",
        "    loss = train()\n",
        "    acc = test()\n",
        "    acclist1.append(acc)\n",
        "    if epoch%10==0 or epoch==1:\n",
        "        print(f'Epoch: {epoch:02d}, Loss: {loss:.4f}, Acc: {acc:.4f}')"
      ]
    },
    {
      "cell_type": "code",
      "source": [
        "plt.plot(range(len(acclist1)),acclist1)"
      ],
      "metadata": {
        "colab": {
          "base_uri": "https://localhost:8080/",
          "height": 282
        },
        "id": "VaA2B1W_jCtc",
        "outputId": "5332e00e-4f7d-4895-b9b9-cad6d8f42f34"
      },
      "execution_count": 17,
      "outputs": [
        {
          "output_type": "execute_result",
          "data": {
            "text/plain": [
              "[<matplotlib.lines.Line2D at 0x7f7040f175d0>]"
            ]
          },
          "metadata": {},
          "execution_count": 17
        },
        {
          "output_type": "display_data",
          "data": {
            "text/plain": [
              "<Figure size 432x288 with 1 Axes>"
            ],
            "image/png": "[encoded data removed]"
          },
          "metadata": {
            "needs_background": "light"
          }
        }
      ]
    },
    {
      "cell_type": "markdown",
      "source": [
        "# change data based on breaking nodes"
      ],
      "metadata": {
        "id": "OKL2Z_0Glb7s"
      }
    },
    {
      "cell_type": "code",
      "source": [
        "def multiappender(l,e):\n",
        "    d = e.reshape(1,-1)\n",
        "    l = torch.cat([l, torch.tensor(d)], dim=0)\n",
        "    return l\n",
        "def appender(l,e):\n",
        "    z = torch.cat([l, torch.tensor(e).reshape(1)], dim=0)\n",
        "    return z"
      ],
      "metadata": {
        "id": "iPe2L1UPnUAs"
      },
      "execution_count": 18,
      "outputs": []
    },
    {
      "cell_type": "code",
      "source": [
        "\n",
        "def make_data_ready(flag_type_2 = True,\n",
        "                    each_part_size = 100,\n",
        "                    istype2 = True):\n",
        "    \n",
        "    dataset = Planetoid(root='data/Planetoid', name='Cora', transform=NormalizeFeatures())\n",
        "    data = dataset[0]\n",
        "    \n",
        "    redunclass = [[i] for i in range(len(data.x))]\n",
        "\n",
        "    nodes = np.zeros(len(data.x))\n",
        "    for i in range(len(data.edge_index[0])):\n",
        "        a =  data.edge_index[0][i]\n",
        "        b =  data.edge_index[1][i]\n",
        "        nodes[a]+=1\n",
        "        nodes[b]+=1\n",
        "\n",
        "    strongs = []\n",
        "    for i in tqdm(range(len(nodes))):\n",
        "        if nodes[i]>each_part_size:\n",
        "            strongs.append(i)\n",
        "\n",
        "    x = data.x\n",
        "    ei = data.edge_index \n",
        "    y = data.y\n",
        "    train_mask, val_mask, test_mask = data.train_mask, data.val_mask, data.test_mask\n",
        "    \n",
        "    d = False  \n",
        "\n",
        "    for s in tqdm(strongs):\n",
        "        n = nodes[s]\n",
        "        while(n>each_part_size):\n",
        "\n",
        "            x = multiappender(x,x[s])\n",
        "            redunclass[s].append(len(x)-1)\n",
        "            y = appender(y,y[s])\n",
        "\n",
        "            train_mask = appender(train_mask,train_mask[s])\n",
        "            val_mask = appender(val_mask,val_mask[s]) \n",
        "            \n",
        "            if istype2:\n",
        "                test_mask = appender(test_mask,False)\n",
        "                test_mask[s] = False\n",
        "            else:\n",
        "                test_mask = appender(test_mask,test_mask[s])\n",
        "            \n",
        "            if n >= each_part_size*1.5:\n",
        "                t = each_part_size\n",
        "                n-=t\n",
        "                \n",
        "                for i in range(len(ei[0])):\n",
        "                    e1,e2 = ei[0][i],ei[1][i]\n",
        "                    \n",
        "                    if t<=0:\n",
        "                        break\n",
        "\n",
        "                    if e1==s:\n",
        "                        t-=1\n",
        "                        ei[0][i] = len(val_mask)-1\n",
        "                    elif e2==s:\n",
        "                        t-=1\n",
        "                        ei[1][i] = len(val_mask)-1\n",
        "                    \n",
        "            else:\n",
        "                t = int((n+1)/2)\n",
        "                n-=t\n",
        "                \n",
        "                for i in range(len(ei[0])):\n",
        "                    if t<=0:\n",
        "                        break\n",
        "\n",
        "                    e1,e2 = ei[0][i],ei[1][i]\n",
        "                    if e1==s:\n",
        "                        t-=1\n",
        "                        ei[0][i] = len(val_mask)-1\n",
        "                    elif e2==s:\n",
        "                        t-=1\n",
        "                        ei[1][i] = len(val_mask)-1\n",
        "                    \n",
        "            if flag_type_2:\n",
        "\n",
        "                print(len(data.edge_index[0]),len(data.x),len(ei))\n",
        "\n",
        "                d = torch.tensor([len(val_mask)-1,s])\n",
        "                d = d.reshape(2,-1)\n",
        "                ei = torch.cat([ei, torch.tensor(d)], dim=-1)\n",
        "\n",
        "                d = torch.tensor([s,len(val_mask)-1])\n",
        "                d = d.reshape(2,-1)\n",
        "                ei = torch.cat([ei, torch.tensor(d)], dim=-1)\n",
        "    data.x = x\n",
        "    data.edge_index = ei \n",
        "    data.y = y\n",
        "    data.train_mask, data.val_mask, data.test_mask = train_mask, val_mask, test_mask\n",
        "\n",
        "    nodes = np.zeros(len(data.x))\n",
        "    for i in range(len(data.edge_index[0])):\n",
        "        a =  data.edge_index[0][i]\n",
        "        b =  data.edge_index[1][i]\n",
        "        nodes[a]+=1\n",
        "        nodes[b]+=1\n",
        "\n",
        "    return x,ei,y,d,strongs,nodes,data,train_mask,test_mask,val_mask,dataset,redunclass"
      ],
      "metadata": {
        "id": "NWUyyUlxlTQ8"
      },
      "execution_count": 19,
      "outputs": []
    },
    {
      "cell_type": "code",
      "source": [
        "each_part_size = 100"
      ],
      "metadata": {
        "id": "JJWG-M-Pn63L"
      },
      "execution_count": 20,
      "outputs": []
    },
    {
      "cell_type": "code",
      "source": [
        "x,ei,y,d,strongs,nodes,data,train_mask,test_mask,val_mask,dataset,redunclass = make_data_ready(flag_type_2 = True,\n",
        "                                                                                       each_part_size = each_part_size,\n",
        "                                                                                       istype2 = True)"
      ],
      "metadata": {
        "colab": {
          "base_uri": "https://localhost:8080/",
          "height": 185,
          "referenced_widgets": [
            "c51bf762f03b46788042a7106dbcc7c7",
            "02542a5ac2c84c1bb4b5de5ecb8abff6",
            "1a4d8f3c40c746b7905d23ee9a5f6586",
            "90187d878f3d44819610116b7c04c9e1",
            "11acd7a621ff49f19c046601623cc88e",
            "d77488cc47c34ecab8d682c3b06b33f9",
            "0eb316bb8822461883f1fadf52568a22",
            "3ac7a797c2f543acae8ee3df771fa638",
            "472e97d4ab2d4400bf88913c158fda95",
            "5710a55c6855435ab57c485a10b98149",
            "e5257e69d3444a19be3a36481d948e96",
            "952e319221f04f6eb279d550ef74e9df",
            "673a49ce60b44b29a027513eb5b2fc4d",
            "02dee9f3494047288e58e54ebf75d05a",
            "b9b523d3f50149c8bf0cf6ffffbd4a87",
            "91ed2f382a3e4f21b5256147f4d99fcd",
            "eefe6cf3eff640ca91e302f0ae836c42",
            "815ba1caccfd41148915e092ccc68311",
            "94a7cd5954db42659dd7a62f12c02429",
            "51e522cd69214ae5baf5992b547b1009",
            "29fc433061a64a13a5b684140042bca7",
            "cd465cdc804c4e63860fe2d0739e4ede"
          ]
        },
        "id": "PrOiX6Knm4I7",
        "outputId": "2bd0921a-dab6-429a-d44b-00614ce63034"
      },
      "execution_count": 21,
      "outputs": [
        {
          "output_type": "display_data",
          "data": {
            "text/plain": [
              "  0%|          | 0/2708 [00:00<?, ?it/s]"
            ],
            "application/vnd.jupyter.widget-view+json": {
              "version_major": 2,
              "version_minor": 0,
              "model_id": "c51bf762f03b46788042a7106dbcc7c7"
            }
          },
          "metadata": {}
        },
        {
          "output_type": "display_data",
          "data": {
            "text/plain": [
              "  0%|          | 0/4 [00:00<?, ?it/s]"
            ],
            "application/vnd.jupyter.widget-view+json": {
              "version_major": 2,
              "version_minor": 0,
              "model_id": "952e319221f04f6eb279d550ef74e9df"
            }
          },
          "metadata": {}
        },
        {
          "output_type": "stream",
          "name": "stdout",
          "text": [
            "10556 2708 2\n",
            "10556 2708 2\n",
            "10556 2708 2\n",
            "10556 2708 2\n",
            "10556 2708 2\n",
            "10556 2708 2\n"
          ]
        }
      ]
    },
    {
      "cell_type": "code",
      "source": [
        "model = Node2Vec(data.edge_index, embedding_dim=128, walk_length=20,\n",
        "                 context_size=10, walks_per_node=10,\n",
        "                 num_negative_samples=10, p=1, q=1, sparse=True).to(device)\n",
        "\n",
        "loader = model.loader(batch_size=128, shuffle=True, num_workers=4)\n",
        "optimizer = torch.optim.SparseAdam(list(model.parameters()), lr=0.01)"
      ],
      "metadata": {
        "id": "xJRAxy64o7QU"
      },
      "execution_count": 22,
      "outputs": []
    },
    {
      "cell_type": "code",
      "source": [
        "from IPython.display import Javascript  # Restrict height of output cell.\n",
        "display(Javascript('''google.colab.output.setIframeHeight(0, true, {maxHeight: 300})'''))\n",
        "\n",
        "acclist2 = []\n",
        "acclist3 = []\n",
        "\n",
        "acc3 = 0\n",
        "\n",
        "for epoch in tqdm(range(1, 101)):\n",
        "    loss = train()\n",
        "    acc = test()\n",
        "    acclist2.append(acc)\n",
        "\n",
        "    if epoch % 2 == 0:\n",
        "        acc3 = test2()\n",
        "    acclist3.append(acc3)\n",
        "    \n",
        "\n",
        "    if epoch%10==0 or epoch==1:\n",
        "        print(f'Epoch: {epoch:02d}, Loss: {loss:.4f}, Acc: {acc:.4f}')"
      ],
      "metadata": {
        "colab": {
          "base_uri": "https://localhost:8080/",
          "height": 300,
          "referenced_widgets": [
            "6e0711ea49214629b09c1edf44c1b478",
            "797f09057122462ba7f769d80fc68a80",
            "dab38b326c554cc1b0d6d3e97bbd5136",
            "f131c20014dc42dbaa22b6a4a0a645a3",
            "bbf7e629bdad4d09be3dd65c3012a54e",
            "29147c281c0247b294c658f8dd3d7ce8",
            "a928196b593f4fd3bbb35d7b40a4db9b",
            "1c08069dce1e40a6aac472db18e65cd4",
            "f14a3485906048c3a50a4aba42fb3dfe",
            "001f372aa99d4e34bcc90f4a66df3fbb",
            "1a170b10407f4504ba65a2e101701382"
          ]
        },
        "id": "ItmeKAPpnyRF",
        "outputId": "d300211e-4a64-429d-e246-d5c01a60c711"
      },
      "execution_count": 24,
      "outputs": [
        {
          "output_type": "display_data",
          "data": {
            "text/plain": [
              "<IPython.core.display.Javascript object>"
            ],
            "application/javascript": [
              "google.colab.output.setIframeHeight(0, true, {maxHeight: 300})"
            ]
          },
          "metadata": {}
        },
        {
          "output_type": "display_data",
          "data": {
            "text/plain": [
              "  0%|          | 0/100 [00:00<?, ?it/s]"
            ],
            "application/vnd.jupyter.widget-view+json": {
              "version_major": 2,
              "version_minor": 0,
              "model_id": "6e0711ea49214629b09c1edf44c1b478"
            }
          },
          "metadata": {}
        },
        {
          "output_type": "stream",
          "name": "stdout",
          "text": [
            "Epoch: 01, Loss: 5.8315, Acc: 0.2192\n",
            "1709 999 0.25925925925925924\n",
            "1709 999 0.31931931931931934\n",
            "1709 999 0.3613613613613614\n",
            "1709 999 0.4314314314314314\n",
            "1709 999 0.4944944944944945\n",
            "Epoch: 10, Loss: 1.3027, Acc: 0.4945\n",
            "1709 999 0.5625625625625625\n",
            "1709 999 0.6066066066066066\n",
            "1709 999 0.6236236236236237\n",
            "1709 999 0.6446446446446447\n",
            "1709 999 0.6536536536536537\n",
            "Epoch: 20, Loss: 0.9070, Acc: 0.6537\n",
            "1709 999 0.6616616616616616\n",
            "1709 999 0.6646646646646647\n",
            "1709 999 0.6816816816816816\n",
            "1709 999 0.6776776776776777\n",
            "1709 999 0.6826826826826827\n",
            "Epoch: 30, Loss: 0.8506, Acc: 0.6827\n",
            "1709 999 0.6846846846846847\n",
            "1709 999 0.6836836836836837\n",
            "1709 999 0.7007007007007007\n",
            "1709 999 0.7037037037037037\n",
            "1709 999 0.7057057057057057\n",
            "Epoch: 40, Loss: 0.8333, Acc: 0.7057\n",
            "1709 999 0.7037037037037037\n",
            "1709 999 0.7087087087087087\n",
            "1709 999 0.7097097097097097\n",
            "1709 999 0.7017017017017017\n",
            "1709 999 0.7107107107107107\n",
            "Epoch: 50, Loss: 0.8267, Acc: 0.7107\n",
            "1709 999 0.7127127127127127\n",
            "1709 999 0.7037037037037037\n",
            "1709 999 0.7027027027027027\n",
            "1709 999 0.7107107107107107\n",
            "1709 999 0.7067067067067067\n",
            "Epoch: 60, Loss: 0.8231, Acc: 0.7067\n",
            "1709 999 0.7137137137137137\n",
            "1709 999 0.7107107107107107\n",
            "1709 999 0.7037037037037037\n",
            "1709 999 0.7087087087087087\n",
            "1709 999 0.7017017017017017\n",
            "Epoch: 70, Loss: 0.8205, Acc: 0.7017\n",
            "1709 999 0.7067067067067067\n",
            "1709 999 0.7077077077077077\n",
            "1709 999 0.6996996996996997\n",
            "1709 999 0.7037037037037037\n",
            "1709 999 0.7037037037037037\n",
            "Epoch: 80, Loss: 0.8195, Acc: 0.7037\n",
            "1709 999 0.6996996996996997\n",
            "1709 999 0.6976976976976977\n",
            "1709 999 0.6936936936936937\n",
            "1709 999 0.7107107107107107\n",
            "1709 999 0.7067067067067067\n",
            "Epoch: 90, Loss: 0.8191, Acc: 0.7067\n",
            "1709 999 0.7107107107107107\n",
            "1709 999 0.7107107107107107\n",
            "1709 999 0.7057057057057057\n",
            "1709 999 0.7027027027027027\n",
            "1709 999 0.6966966966966966\n",
            "Epoch: 100, Loss: 0.8192, Acc: 0.6967\n"
          ]
        }
      ]
    },
    {
      "cell_type": "code",
      "source": [
        "plt.plot(range(len(acclist1)),acclist1,label='acc1 max:'+str(round(max(acclist1),3)))\n",
        "plt.plot(range(len(acclist2)),acclist2,label='acc2 max:'+str(round(max(acclist2),3)))\n",
        "plt.plot(range(len(acclist3)),acclist3,label='acc3 max:'+str(round(max(acclist3),3)))\n",
        "\n",
        "plt.legend()"
      ],
      "metadata": {
        "id": "0_kiRXbYnVr7",
        "colab": {
          "base_uri": "https://localhost:8080/",
          "height": 282
        },
        "outputId": "1c23d782-04d8-4f2c-853c-76a74879b2ae"
      },
      "execution_count": 25,
      "outputs": [
        {
          "output_type": "execute_result",
          "data": {
            "text/plain": [
              "<matplotlib.legend.Legend at 0x7f7040778890>"
            ]
          },
          "metadata": {},
          "execution_count": 25
        },
        {
          "output_type": "display_data",
          "data": {
            "text/plain": [
              "<Figure size 432x288 with 1 Axes>"
            ],
            "image/png": "[encoded data removed]"
          },
          "metadata": {
            "needs_background": "light"
          }
        }
      ]
    },
    {
      "cell_type": "code",
      "source": [],
      "metadata": {
        "id": "lXYVNm1Hnluz"
      },
      "execution_count": 25,
      "outputs": []
    },
    {
      "cell_type": "code",
      "source": [],
      "metadata": {
        "id": "x0jk4j49uJNH"
      },
      "execution_count": 25,
      "outputs": []
    },
    {
      "cell_type": "code",
      "source": [],
      "metadata": {
        "id": "s0oHxIWtuJQf"
      },
      "execution_count": 25,
      "outputs": []
    },
    {
      "cell_type": "code",
      "source": [],
      "metadata": {
        "id": "jxVKbWZ_uNfp"
      },
      "execution_count": 25,
      "outputs": []
    }
  ],
  "metadata": {
    "kernelspec": {
      "display_name": "Python 3 (ipykernel)",
      "language": "python",
      "name": "python3"
    },
    "language_info": {
      "codemirror_mode": {
        "name": "ipython",
        "version": 3
      },
      "file_extension": ".py",
      "mimetype": "text/x-python",
      "name": "python",
      "nbconvert_exporter": "python",
      "pygments_lexer": "ipython3",
      "version": "3.9.7"
    },
    "colab": {
      "provenance": [],
      "collapsed_sections": [],
      "include_colab_link": true
    },
    "accelerator": "GPU",
    "gpuClass": "standard",
    "widgets": {
      "application/vnd.jupyter.widget-state+json": {
        "5bf3db40428e49b1b84599aa0e5e227a": {
          "model_module": "@jupyter-widgets/controls",
          "model_name": "HBoxModel",
          "model_module_version": "1.5.0",
          "state": {
            "_dom_classes": [],
            "_model_module": "@jupyter-widgets/controls",
            "_model_module_version": "1.5.0",
            "_model_name": "HBoxModel",
            "_view_count": null,
            "_view_module": "@jupyter-widgets/controls",
            "_view_module_version": "1.5.0",
            "_view_name": "HBoxView",
            "box_style": "",
            "children": [
              "IPY_MODEL_8706e7f83bb4457f87664abdf796a9d4",
              "IPY_MODEL_baae83eaafe645eca3ff816d906ae4e1",
              "IPY_MODEL_cf3c2a5f443a4fe59aa255191da275cd"
            ],
            "layout": "IPY_MODEL_ff51405376de47f5b8c818a538c817df"
          }
        },
        "8706e7f83bb4457f87664abdf796a9d4": {
          "model_module": "@jupyter-widgets/controls",
          "model_name": "HTMLModel",
          "model_module_version": "1.5.0",
          "state": {
            "_dom_classes": [],
            "_model_module": "@jupyter-widgets/controls",
            "_model_module_version": "1.5.0",
            "_model_name": "HTMLModel",
            "_view_count": null,
            "_view_module": "@jupyter-widgets/controls",
            "_view_module_version": "1.5.0",
            "_view_name": "HTMLView",
            "description": "",
            "description_tooltip": null,
            "layout": "IPY_MODEL_28b55deac1754e20a0fc2280ca26809f",
            "placeholder": "​",
            "style": "IPY_MODEL_b6432ca599ca472db22e913d48c5962b",
            "value": "100%"
          }
        },
        "baae83eaafe645eca3ff816d906ae4e1": {
          "model_module": "@jupyter-widgets/controls",
          "model_name": "FloatProgressModel",
          "model_module_version": "1.5.0",
          "state": {
            "_dom_classes": [],
            "_model_module": "@jupyter-widgets/controls",
            "_model_module_version": "1.5.0",
            "_model_name": "FloatProgressModel",
            "_view_count": null,
            "_view_module": "@jupyter-widgets/controls",
            "_view_module_version": "1.5.0",
            "_view_name": "ProgressView",
            "bar_style": "success",
            "description": "",
            "description_tooltip": null,
            "layout": "IPY_MODEL_31f72d8a3752485b94d9e377151e7fc6",
            "max": 100,
            "min": 0,
            "orientation": "horizontal",
            "style": "IPY_MODEL_b92337a7c3bc40b1b0266926a4a5224f",
            "value": 100
          }
        },
        "cf3c2a5f443a4fe59aa255191da275cd": {
          "model_module": "@jupyter-widgets/controls",
          "model_name": "HTMLModel",
          "model_module_version": "1.5.0",
          "state": {
            "_dom_classes": [],
            "_model_module": "@jupyter-widgets/controls",
            "_model_module_version": "1.5.0",
            "_model_name": "HTMLModel",
            "_view_count": null,
            "_view_module": "@jupyter-widgets/controls",
            "_view_module_version": "1.5.0",
            "_view_name": "HTMLView",
            "description": "",
            "description_tooltip": null,
            "layout": "IPY_MODEL_f3e0348f35074f0fa9e12ed28c4cc356",
            "placeholder": "​",
            "style": "IPY_MODEL_34cb28199d0e42a899bf688a4c8a25a2",
            "value": " 100/100 [02:36&lt;00:00,  1.50s/it]"
          }
        },
        "ff51405376de47f5b8c818a538c817df": {
          "model_module": "@jupyter-widgets/base",
          "model_name": "LayoutModel",
          "model_module_version": "1.2.0",
          "state": {
            "_model_module": "@jupyter-widgets/base",
            "_model_module_version": "1.2.0",
            "_model_name": "LayoutModel",
            "_view_count": null,
            "_view_module": "@jupyter-widgets/base",
            "_view_module_version": "1.2.0",
            "_view_name": "LayoutView",
            "align_content": null,
            "align_items": null,
            "align_self": null,
            "border": null,
            "bottom": null,
            "display": null,
            "flex": null,
            "flex_flow": null,
            "grid_area": null,
            "grid_auto_columns": null,
            "grid_auto_flow": null,
            "grid_auto_rows": null,
            "grid_column": null,
            "grid_gap": null,
            "grid_row": null,
            "grid_template_areas": null,
            "grid_template_columns": null,
            "grid_template_rows": null,
            "height": null,
            "justify_content": null,
            "justify_items": null,
            "left": null,
            "margin": null,
            "max_height": null,
            "max_width": null,
            "min_height": null,
            "min_width": null,
            "object_fit": null,
            "object_position": null,
            "order": null,
            "overflow": null,
            "overflow_x": null,
            "overflow_y": null,
            "padding": null,
            "right": null,
            "top": null,
            "visibility": null,
            "width": null
          }
        },
        "28b55deac1754e20a0fc2280ca26809f": {
          "model_module": "@jupyter-widgets/base",
          "model_name": "LayoutModel",
          "model_module_version": "1.2.0",
          "state": {
            "_model_module": "@jupyter-widgets/base",
            "_model_module_version": "1.2.0",
            "_model_name": "LayoutModel",
            "_view_count": null,
            "_view_module": "@jupyter-widgets/base",
            "_view_module_version": "1.2.0",
            "_view_name": "LayoutView",
            "align_content": null,
            "align_items": null,
            "align_self": null,
            "border": null,
            "bottom": null,
            "display": null,
            "flex": null,
            "flex_flow": null,
            "grid_area": null,
            "grid_auto_columns": null,
            "grid_auto_flow": null,
            "grid_auto_rows": null,
            "grid_column": null,
            "grid_gap": null,
            "grid_row": null,
            "grid_template_areas": null,
            "grid_template_columns": null,
            "grid_template_rows": null,
            "height": null,
            "justify_content": null,
            "justify_items": null,
            "left": null,
            "margin": null,
            "max_height": null,
            "max_width": null,
            "min_height": null,
            "min_width": null,
            "object_fit": null,
            "object_position": null,
            "order": null,
            "overflow": null,
            "overflow_x": null,
            "overflow_y": null,
            "padding": null,
            "right": null,
            "top": null,
            "visibility": null,
            "width": null
          }
        },
        "b6432ca599ca472db22e913d48c5962b": {
          "model_module": "@jupyter-widgets/controls",
          "model_name": "DescriptionStyleModel",
          "model_module_version": "1.5.0",
          "state": {
            "_model_module": "@jupyter-widgets/controls",
            "_model_module_version": "1.5.0",
            "_model_name": "DescriptionStyleModel",
            "_view_count": null,
            "_view_module": "@jupyter-widgets/base",
            "_view_module_version": "1.2.0",
            "_view_name": "StyleView",
            "description_width": ""
          }
        },
        "31f72d8a3752485b94d9e377151e7fc6": {
          "model_module": "@jupyter-widgets/base",
          "model_name": "LayoutModel",
          "model_module_version": "1.2.0",
          "state": {
            "_model_module": "@jupyter-widgets/base",
            "_model_module_version": "1.2.0",
            "_model_name": "LayoutModel",
            "_view_count": null,
            "_view_module": "@jupyter-widgets/base",
            "_view_module_version": "1.2.0",
            "_view_name": "LayoutView",
            "align_content": null,
            "align_items": null,
            "align_self": null,
            "border": null,
            "bottom": null,
            "display": null,
            "flex": null,
            "flex_flow": null,
            "grid_area": null,
            "grid_auto_columns": null,
            "grid_auto_flow": null,
            "grid_auto_rows": null,
            "grid_column": null,
            "grid_gap": null,
            "grid_row": null,
            "grid_template_areas": null,
            "grid_template_columns": null,
            "grid_template_rows": null,
            "height": null,
            "justify_content": null,
            "justify_items": null,
            "left": null,
            "margin": null,
            "max_height": null,
            "max_width": null,
            "min_height": null,
            "min_width": null,
            "object_fit": null,
            "object_position": null,
            "order": null,
            "overflow": null,
            "overflow_x": null,
            "overflow_y": null,
            "padding": null,
            "right": null,
            "top": null,
            "visibility": null,
            "width": null
          }
        },
        "b92337a7c3bc40b1b0266926a4a5224f": {
          "model_module": "@jupyter-widgets/controls",
          "model_name": "ProgressStyleModel",
          "model_module_version": "1.5.0",
          "state": {
            "_model_module": "@jupyter-widgets/controls",
            "_model_module_version": "1.5.0",
            "_model_name": "ProgressStyleModel",
            "_view_count": null,
            "_view_module": "@jupyter-widgets/base",
            "_view_module_version": "1.2.0",
            "_view_name": "StyleView",
            "bar_color": null,
            "description_width": ""
          }
        },
        "f3e0348f35074f0fa9e12ed28c4cc356": {
          "model_module": "@jupyter-widgets/base",
          "model_name": "LayoutModel",
          "model_module_version": "1.2.0",
          "state": {
            "_model_module": "@jupyter-widgets/base",
            "_model_module_version": "1.2.0",
            "_model_name": "LayoutModel",
            "_view_count": null,
            "_view_module": "@jupyter-widgets/base",
            "_view_module_version": "1.2.0",
            "_view_name": "LayoutView",
            "align_content": null,
            "align_items": null,
            "align_self": null,
            "border": null,
            "bottom": null,
            "display": null,
            "flex": null,
            "flex_flow": null,
            "grid_area": null,
            "grid_auto_columns": null,
            "grid_auto_flow": null,
            "grid_auto_rows": null,
            "grid_column": null,
            "grid_gap": null,
            "grid_row": null,
            "grid_template_areas": null,
            "grid_template_columns": null,
            "grid_template_rows": null,
            "height": null,
            "justify_content": null,
            "justify_items": null,
            "left": null,
            "margin": null,
            "max_height": null,
            "max_width": null,
            "min_height": null,
            "min_width": null,
            "object_fit": null,
            "object_position": null,
            "order": null,
            "overflow": null,
            "overflow_x": null,
            "overflow_y": null,
            "padding": null,
            "right": null,
            "top": null,
            "visibility": null,
            "width": null
          }
        },
        "34cb28199d0e42a899bf688a4c8a25a2": {
          "model_module": "@jupyter-widgets/controls",
          "model_name": "DescriptionStyleModel",
          "model_module_version": "1.5.0",
          "state": {
            "_model_module": "@jupyter-widgets/controls",
            "_model_module_version": "1.5.0",
            "_model_name": "DescriptionStyleModel",
            "_view_count": null,
            "_view_module": "@jupyter-widgets/base",
            "_view_module_version": "1.2.0",
            "_view_name": "StyleView",
            "description_width": ""
          }
        },
        "c51bf762f03b46788042a7106dbcc7c7": {
          "model_module": "@jupyter-widgets/controls",
          "model_name": "HBoxModel",
          "model_module_version": "1.5.0",
          "state": {
            "_dom_classes": [],
            "_model_module": "@jupyter-widgets/controls",
            "_model_module_version": "1.5.0",
            "_model_name": "HBoxModel",
            "_view_count": null,
            "_view_module": "@jupyter-widgets/controls",
            "_view_module_version": "1.5.0",
            "_view_name": "HBoxView",
            "box_style": "",
            "children": [
              "IPY_MODEL_02542a5ac2c84c1bb4b5de5ecb8abff6",
              "IPY_MODEL_1a4d8f3c40c746b7905d23ee9a5f6586",
              "IPY_MODEL_90187d878f3d44819610116b7c04c9e1"
            ],
            "layout": "IPY_MODEL_11acd7a621ff49f19c046601623cc88e"
          }
        },
        "02542a5ac2c84c1bb4b5de5ecb8abff6": {
          "model_module": "@jupyter-widgets/controls",
          "model_name": "HTMLModel",
          "model_module_version": "1.5.0",
          "state": {
            "_dom_classes": [],
            "_model_module": "@jupyter-widgets/controls",
            "_model_module_version": "1.5.0",
            "_model_name": "HTMLModel",
            "_view_count": null,
            "_view_module": "@jupyter-widgets/controls",
            "_view_module_version": "1.5.0",
            "_view_name": "HTMLView",
            "description": "",
            "description_tooltip": null,
            "layout": "IPY_MODEL_d77488cc47c34ecab8d682c3b06b33f9",
            "placeholder": "​",
            "style": "IPY_MODEL_0eb316bb8822461883f1fadf52568a22",
            "value": "100%"
          }
        },
        "1a4d8f3c40c746b7905d23ee9a5f6586": {
          "model_module": "@jupyter-widgets/controls",
          "model_name": "FloatProgressModel",
          "model_module_version": "1.5.0",
          "state": {
            "_dom_classes": [],
            "_model_module": "@jupyter-widgets/controls",
            "_model_module_version": "1.5.0",
            "_model_name": "FloatProgressModel",
            "_view_count": null,
            "_view_module": "@jupyter-widgets/controls",
            "_view_module_version": "1.5.0",
            "_view_name": "ProgressView",
            "bar_style": "success",
            "description": "",
            "description_tooltip": null,
            "layout": "IPY_MODEL_3ac7a797c2f543acae8ee3df771fa638",
            "max": 2708,
            "min": 0,
            "orientation": "horizontal",
            "style": "IPY_MODEL_472e97d4ab2d4400bf88913c158fda95",
            "value": 2708
          }
        },
        "90187d878f3d44819610116b7c04c9e1": {
          "model_module": "@jupyter-widgets/controls",
          "model_name": "HTMLModel",
          "model_module_version": "1.5.0",
          "state": {
            "_dom_classes": [],
            "_model_module": "@jupyter-widgets/controls",
            "_model_module_version": "1.5.0",
            "_model_name": "HTMLModel",
            "_view_count": null,
            "_view_module": "@jupyter-widgets/controls",
            "_view_module_version": "1.5.0",
            "_view_name": "HTMLView",
            "description": "",
            "description_tooltip": null,
            "layout": "IPY_MODEL_5710a55c6855435ab57c485a10b98149",
            "placeholder": "​",
            "style": "IPY_MODEL_e5257e69d3444a19be3a36481d948e96",
            "value": " 2708/2708 [00:00&lt;00:00, 88338.22it/s]"
          }
        },
        "11acd7a621ff49f19c046601623cc88e": {
          "model_module": "@jupyter-widgets/base",
          "model_name": "LayoutModel",
          "model_module_version": "1.2.0",
          "state": {
            "_model_module": "@jupyter-widgets/base",
            "_model_module_version": "1.2.0",
            "_model_name": "LayoutModel",
            "_view_count": null,
            "_view_module": "@jupyter-widgets/base",
            "_view_module_version": "1.2.0",
            "_view_name": "LayoutView",
            "align_content": null,
            "align_items": null,
            "align_self": null,
            "border": null,
            "bottom": null,
            "display": null,
            "flex": null,
            "flex_flow": null,
            "grid_area": null,
            "grid_auto_columns": null,
            "grid_auto_flow": null,
            "grid_auto_rows": null,
            "grid_column": null,
            "grid_gap": null,
            "grid_row": null,
            "grid_template_areas": null,
            "grid_template_columns": null,
            "grid_template_rows": null,
            "height": null,
            "justify_content": null,
            "justify_items": null,
            "left": null,
            "margin": null,
            "max_height": null,
            "max_width": null,
            "min_height": null,
            "min_width": null,
            "object_fit": null,
            "object_position": null,
            "order": null,
            "overflow": null,
            "overflow_x": null,
            "overflow_y": null,
            "padding": null,
            "right": null,
            "top": null,
            "visibility": null,
            "width": null
          }
        },
        "d77488cc47c34ecab8d682c3b06b33f9": {
          "model_module": "@jupyter-widgets/base",
          "model_name": "LayoutModel",
          "model_module_version": "1.2.0",
          "state": {
            "_model_module": "@jupyter-widgets/base",
            "_model_module_version": "1.2.0",
            "_model_name": "LayoutModel",
            "_view_count": null,
            "_view_module": "@jupyter-widgets/base",
            "_view_module_version": "1.2.0",
            "_view_name": "LayoutView",
            "align_content": null,
            "align_items": null,
            "align_self": null,
            "border": null,
            "bottom": null,
            "display": null,
            "flex": null,
            "flex_flow": null,
            "grid_area": null,
            "grid_auto_columns": null,
            "grid_auto_flow": null,
            "grid_auto_rows": null,
            "grid_column": null,
            "grid_gap": null,
            "grid_row": null,
            "grid_template_areas": null,
            "grid_template_columns": null,
            "grid_template_rows": null,
            "height": null,
            "justify_content": null,
            "justify_items": null,
            "left": null,
            "margin": null,
            "max_height": null,
            "max_width": null,
            "min_height": null,
            "min_width": null,
            "object_fit": null,
            "object_position": null,
            "order": null,
            "overflow": null,
            "overflow_x": null,
            "overflow_y": null,
            "padding": null,
            "right": null,
            "top": null,
            "visibility": null,
            "width": null
          }
        },
        "0eb316bb8822461883f1fadf52568a22": {
          "model_module": "@jupyter-widgets/controls",
          "model_name": "DescriptionStyleModel",
          "model_module_version": "1.5.0",
          "state": {
            "_model_module": "@jupyter-widgets/controls",
            "_model_module_version": "1.5.0",
            "_model_name": "DescriptionStyleModel",
            "_view_count": null,
            "_view_module": "@jupyter-widgets/base",
            "_view_module_version": "1.2.0",
            "_view_name": "StyleView",
            "description_width": ""
          }
        },
        "3ac7a797c2f543acae8ee3df771fa638": {
          "model_module": "@jupyter-widgets/base",
          "model_name": "LayoutModel",
          "model_module_version": "1.2.0",
          "state": {
            "_model_module": "@jupyter-widgets/base",
            "_model_module_version": "1.2.0",
            "_model_name": "LayoutModel",
            "_view_count": null,
            "_view_module": "@jupyter-widgets/base",
            "_view_module_version": "1.2.0",
            "_view_name": "LayoutView",
            "align_content": null,
            "align_items": null,
            "align_self": null,
            "border": null,
            "bottom": null,
            "display": null,
            "flex": null,
            "flex_flow": null,
            "grid_area": null,
            "grid_auto_columns": null,
            "grid_auto_flow": null,
            "grid_auto_rows": null,
            "grid_column": null,
            "grid_gap": null,
            "grid_row": null,
            "grid_template_areas": null,
            "grid_template_columns": null,
            "grid_template_rows": null,
            "height": null,
            "justify_content": null,
            "justify_items": null,
            "left": null,
            "margin": null,
            "max_height": null,
            "max_width": null,
            "min_height": null,
            "min_width": null,
            "object_fit": null,
            "object_position": null,
            "order": null,
            "overflow": null,
            "overflow_x": null,
            "overflow_y": null,
            "padding": null,
            "right": null,
            "top": null,
            "visibility": null,
            "width": null
          }
        },
        "472e97d4ab2d4400bf88913c158fda95": {
          "model_module": "@jupyter-widgets/controls",
          "model_name": "ProgressStyleModel",
          "model_module_version": "1.5.0",
          "state": {
            "_model_module": "@jupyter-widgets/controls",
            "_model_module_version": "1.5.0",
            "_model_name": "ProgressStyleModel",
            "_view_count": null,
            "_view_module": "@jupyter-widgets/base",
            "_view_module_version": "1.2.0",
            "_view_name": "StyleView",
            "bar_color": null,
            "description_width": ""
          }
        },
        "5710a55c6855435ab57c485a10b98149": {
          "model_module": "@jupyter-widgets/base",
          "model_name": "LayoutModel",
          "model_module_version": "1.2.0",
          "state": {
            "_model_module": "@jupyter-widgets/base",
            "_model_module_version": "1.2.0",
            "_model_name": "LayoutModel",
            "_view_count": null,
            "_view_module": "@jupyter-widgets/base",
            "_view_module_version": "1.2.0",
            "_view_name": "LayoutView",
            "align_content": null,
            "align_items": null,
            "align_self": null,
            "border": null,
            "bottom": null,
            "display": null,
            "flex": null,
            "flex_flow": null,
            "grid_area": null,
            "grid_auto_columns": null,
            "grid_auto_flow": null,
            "grid_auto_rows": null,
            "grid_column": null,
            "grid_gap": null,
            "grid_row": null,
            "grid_template_areas": null,
            "grid_template_columns": null,
            "grid_template_rows": null,
            "height": null,
            "justify_content": null,
            "justify_items": null,
            "left": null,
            "margin": null,
            "max_height": null,
            "max_width": null,
            "min_height": null,
            "min_width": null,
            "object_fit": null,
            "object_position": null,
            "order": null,
            "overflow": null,
            "overflow_x": null,
            "overflow_y": null,
            "padding": null,
            "right": null,
            "top": null,
            "visibility": null,
            "width": null
          }
        },
        "e5257e69d3444a19be3a36481d948e96": {
          "model_module": "@jupyter-widgets/controls",
          "model_name": "DescriptionStyleModel",
          "model_module_version": "1.5.0",
          "state": {
            "_model_module": "@jupyter-widgets/controls",
            "_model_module_version": "1.5.0",
            "_model_name": "DescriptionStyleModel",
            "_view_count": null,
            "_view_module": "@jupyter-widgets/base",
            "_view_module_version": "1.2.0",
            "_view_name": "StyleView",
            "description_width": ""
          }
        },
        "952e319221f04f6eb279d550ef74e9df": {
          "model_module": "@jupyter-widgets/controls",
          "model_name": "HBoxModel",
          "model_module_version": "1.5.0",
          "state": {
            "_dom_classes": [],
            "_model_module": "@jupyter-widgets/controls",
            "_model_module_version": "1.5.0",
            "_model_name": "HBoxModel",
            "_view_count": null,
            "_view_module": "@jupyter-widgets/controls",
            "_view_module_version": "1.5.0",
            "_view_name": "HBoxView",
            "box_style": "",
            "children": [
              "IPY_MODEL_673a49ce60b44b29a027513eb5b2fc4d",
              "IPY_MODEL_02dee9f3494047288e58e54ebf75d05a",
              "IPY_MODEL_b9b523d3f50149c8bf0cf6ffffbd4a87"
            ],
            "layout": "IPY_MODEL_91ed2f382a3e4f21b5256147f4d99fcd"
          }
        },
        "673a49ce60b44b29a027513eb5b2fc4d": {
          "model_module": "@jupyter-widgets/controls",
          "model_name": "HTMLModel",
          "model_module_version": "1.5.0",
          "state": {
            "_dom_classes": [],
            "_model_module": "@jupyter-widgets/controls",
            "_model_module_version": "1.5.0",
            "_model_name": "HTMLModel",
            "_view_count": null,
            "_view_module": "@jupyter-widgets/controls",
            "_view_module_version": "1.5.0",
            "_view_name": "HTMLView",
            "description": "",
            "description_tooltip": null,
            "layout": "IPY_MODEL_eefe6cf3eff640ca91e302f0ae836c42",
            "placeholder": "​",
            "style": "IPY_MODEL_815ba1caccfd41148915e092ccc68311",
            "value": "100%"
          }
        },
        "02dee9f3494047288e58e54ebf75d05a": {
          "model_module": "@jupyter-widgets/controls",
          "model_name": "FloatProgressModel",
          "model_module_version": "1.5.0",
          "state": {
            "_dom_classes": [],
            "_model_module": "@jupyter-widgets/controls",
            "_model_module_version": "1.5.0",
            "_model_name": "FloatProgressModel",
            "_view_count": null,
            "_view_module": "@jupyter-widgets/controls",
            "_view_module_version": "1.5.0",
            "_view_name": "ProgressView",
            "bar_style": "success",
            "description": "",
            "description_tooltip": null,
            "layout": "IPY_MODEL_94a7cd5954db42659dd7a62f12c02429",
            "max": 4,
            "min": 0,
            "orientation": "horizontal",
            "style": "IPY_MODEL_51e522cd69214ae5baf5992b547b1009",
            "value": 4
          }
        },
        "b9b523d3f50149c8bf0cf6ffffbd4a87": {
          "model_module": "@jupyter-widgets/controls",
          "model_name": "HTMLModel",
          "model_module_version": "1.5.0",
          "state": {
            "_dom_classes": [],
            "_model_module": "@jupyter-widgets/controls",
            "_model_module_version": "1.5.0",
            "_model_name": "HTMLModel",
            "_view_count": null,
            "_view_module": "@jupyter-widgets/controls",
            "_view_module_version": "1.5.0",
            "_view_name": "HTMLView",
            "description": "",
            "description_tooltip": null,
            "layout": "IPY_MODEL_29fc433061a64a13a5b684140042bca7",
            "placeholder": "​",
            "style": "IPY_MODEL_cd465cdc804c4e63860fe2d0739e4ede",
            "value": " 4/4 [00:00&lt;00:00,  6.80it/s]"
          }
        },
        "91ed2f382a3e4f21b5256147f4d99fcd": {
          "model_module": "@jupyter-widgets/base",
          "model_name": "LayoutModel",
          "model_module_version": "1.2.0",
          "state": {
            "_model_module": "@jupyter-widgets/base",
            "_model_module_version": "1.2.0",
            "_model_name": "LayoutModel",
            "_view_count": null,
            "_view_module": "@jupyter-widgets/base",
            "_view_module_version": "1.2.0",
            "_view_name": "LayoutView",
            "align_content": null,
            "align_items": null,
            "align_self": null,
            "border": null,
            "bottom": null,
            "display": null,
            "flex": null,
            "flex_flow": null,
            "grid_area": null,
            "grid_auto_columns": null,
            "grid_auto_flow": null,
            "grid_auto_rows": null,
            "grid_column": null,
            "grid_gap": null,
            "grid_row": null,
            "grid_template_areas": null,
            "grid_template_columns": null,
            "grid_template_rows": null,
            "height": null,
            "justify_content": null,
            "justify_items": null,
            "left": null,
            "margin": null,
            "max_height": null,
            "max_width": null,
            "min_height": null,
            "min_width": null,
            "object_fit": null,
            "object_position": null,
            "order": null,
            "overflow": null,
            "overflow_x": null,
            "overflow_y": null,
            "padding": null,
            "right": null,
            "top": null,
            "visibility": null,
            "width": null
          }
        },
        "eefe6cf3eff640ca91e302f0ae836c42": {
          "model_module": "@jupyter-widgets/base",
          "model_name": "LayoutModel",
          "model_module_version": "1.2.0",
          "state": {
            "_model_module": "@jupyter-widgets/base",
            "_model_module_version": "1.2.0",
            "_model_name": "LayoutModel",
            "_view_count": null,
            "_view_module": "@jupyter-widgets/base",
            "_view_module_version": "1.2.0",
            "_view_name": "LayoutView",
            "align_content": null,
            "align_items": null,
            "align_self": null,
            "border": null,
            "bottom": null,
            "display": null,
            "flex": null,
            "flex_flow": null,
            "grid_area": null,
            "grid_auto_columns": null,
            "grid_auto_flow": null,
            "grid_auto_rows": null,
            "grid_column": null,
            "grid_gap": null,
            "grid_row": null,
            "grid_template_areas": null,
            "grid_template_columns": null,
            "grid_template_rows": null,
            "height": null,
            "justify_content": null,
            "justify_items": null,
            "left": null,
            "margin": null,
            "max_height": null,
            "max_width": null,
            "min_height": null,
            "min_width": null,
            "object_fit": null,
            "object_position": null,
            "order": null,
            "overflow": null,
            "overflow_x": null,
            "overflow_y": null,
            "padding": null,
            "right": null,
            "top": null,
            "visibility": null,
            "width": null
          }
        },
        "815ba1caccfd41148915e092ccc68311": {
          "model_module": "@jupyter-widgets/controls",
          "model_name": "DescriptionStyleModel",
          "model_module_version": "1.5.0",
          "state": {
            "_model_module": "@jupyter-widgets/controls",
            "_model_module_version": "1.5.0",
            "_model_name": "DescriptionStyleModel",
            "_view_count": null,
            "_view_module": "@jupyter-widgets/base",
            "_view_module_version": "1.2.0",
            "_view_name": "StyleView",
            "description_width": ""
          }
        },
        "94a7cd5954db42659dd7a62f12c02429": {
          "model_module": "@jupyter-widgets/base",
          "model_name": "LayoutModel",
          "model_module_version": "1.2.0",
          "state": {
            "_model_module": "@jupyter-widgets/base",
            "_model_module_version": "1.2.0",
            "_model_name": "LayoutModel",
            "_view_count": null,
            "_view_module": "@jupyter-widgets/base",
            "_view_module_version": "1.2.0",
            "_view_name": "LayoutView",
            "align_content": null,
            "align_items": null,
            "align_self": null,
            "border": null,
            "bottom": null,
            "display": null,
            "flex": null,
            "flex_flow": null,
            "grid_area": null,
            "grid_auto_columns": null,
            "grid_auto_flow": null,
            "grid_auto_rows": null,
            "grid_column": null,
            "grid_gap": null,
            "grid_row": null,
            "grid_template_areas": null,
            "grid_template_columns": null,
            "grid_template_rows": null,
            "height": null,
            "justify_content": null,
            "justify_items": null,
            "left": null,
            "margin": null,
            "max_height": null,
            "max_width": null,
            "min_height": null,
            "min_width": null,
            "object_fit": null,
            "object_position": null,
            "order": null,
            "overflow": null,
            "overflow_x": null,
            "overflow_y": null,
            "padding": null,
            "right": null,
            "top": null,
            "visibility": null,
            "width": null
          }
        },
        "51e522cd69214ae5baf5992b547b1009": {
          "model_module": "@jupyter-widgets/controls",
          "model_name": "ProgressStyleModel",
          "model_module_version": "1.5.0",
          "state": {
            "_model_module": "@jupyter-widgets/controls",
            "_model_module_version": "1.5.0",
            "_model_name": "ProgressStyleModel",
            "_view_count": null,
            "_view_module": "@jupyter-widgets/base",
            "_view_module_version": "1.2.0",
            "_view_name": "StyleView",
            "bar_color": null,
            "description_width": ""
          }
        },
        "29fc433061a64a13a5b684140042bca7": {
          "model_module": "@jupyter-widgets/base",
          "model_name": "LayoutModel",
          "model_module_version": "1.2.0",
          "state": {
            "_model_module": "@jupyter-widgets/base",
            "_model_module_version": "1.2.0",
            "_model_name": "LayoutModel",
            "_view_count": null,
            "_view_module": "@jupyter-widgets/base",
            "_view_module_version": "1.2.0",
            "_view_name": "LayoutView",
            "align_content": null,
            "align_items": null,
            "align_self": null,
            "border": null,
            "bottom": null,
            "display": null,
            "flex": null,
            "flex_flow": null,
            "grid_area": null,
            "grid_auto_columns": null,
            "grid_auto_flow": null,
            "grid_auto_rows": null,
            "grid_column": null,
            "grid_gap": null,
            "grid_row": null,
            "grid_template_areas": null,
            "grid_template_columns": null,
            "grid_template_rows": null,
            "height": null,
            "justify_content": null,
            "justify_items": null,
            "left": null,
            "margin": null,
            "max_height": null,
            "max_width": null,
            "min_height": null,
            "min_width": null,
            "object_fit": null,
            "object_position": null,
            "order": null,
            "overflow": null,
            "overflow_x": null,
            "overflow_y": null,
            "padding": null,
            "right": null,
            "top": null,
            "visibility": null,
            "width": null
          }
        },
        "cd465cdc804c4e63860fe2d0739e4ede": {
          "model_module": "@jupyter-widgets/controls",
          "model_name": "DescriptionStyleModel",
          "model_module_version": "1.5.0",
          "state": {
            "_model_module": "@jupyter-widgets/controls",
            "_model_module_version": "1.5.0",
            "_model_name": "DescriptionStyleModel",
            "_view_count": null,
            "_view_module": "@jupyter-widgets/base",
            "_view_module_version": "1.2.0",
            "_view_name": "StyleView",
            "description_width": ""
          }
        },
        "6e0711ea49214629b09c1edf44c1b478": {
          "model_module": "@jupyter-widgets/controls",
          "model_name": "HBoxModel",
          "model_module_version": "1.5.0",
          "state": {
            "_dom_classes": [],
            "_model_module": "@jupyter-widgets/controls",
            "_model_module_version": "1.5.0",
            "_model_name": "HBoxModel",
            "_view_count": null,
            "_view_module": "@jupyter-widgets/controls",
            "_view_module_version": "1.5.0",
            "_view_name": "HBoxView",
            "box_style": "",
            "children": [
              "IPY_MODEL_797f09057122462ba7f769d80fc68a80",
              "IPY_MODEL_dab38b326c554cc1b0d6d3e97bbd5136",
              "IPY_MODEL_f131c20014dc42dbaa22b6a4a0a645a3"
            ],
            "layout": "IPY_MODEL_bbf7e629bdad4d09be3dd65c3012a54e"
          }
        },
        "797f09057122462ba7f769d80fc68a80": {
          "model_module": "@jupyter-widgets/controls",
          "model_name": "HTMLModel",
          "model_module_version": "1.5.0",
          "state": {
            "_dom_classes": [],
            "_model_module": "@jupyter-widgets/controls",
            "_model_module_version": "1.5.0",
            "_model_name": "HTMLModel",
            "_view_count": null,
            "_view_module": "@jupyter-widgets/controls",
            "_view_module_version": "1.5.0",
            "_view_name": "HTMLView",
            "description": "",
            "description_tooltip": null,
            "layout": "IPY_MODEL_29147c281c0247b294c658f8dd3d7ce8",
            "placeholder": "​",
            "style": "IPY_MODEL_a928196b593f4fd3bbb35d7b40a4db9b",
            "value": "100%"
          }
        },
        "dab38b326c554cc1b0d6d3e97bbd5136": {
          "model_module": "@jupyter-widgets/controls",
          "model_name": "FloatProgressModel",
          "model_module_version": "1.5.0",
          "state": {
            "_dom_classes": [],
            "_model_module": "@jupyter-widgets/controls",
            "_model_module_version": "1.5.0",
            "_model_name": "FloatProgressModel",
            "_view_count": null,
            "_view_module": "@jupyter-widgets/controls",
            "_view_module_version": "1.5.0",
            "_view_name": "ProgressView",
            "bar_style": "success",
            "description": "",
            "description_tooltip": null,
            "layout": "IPY_MODEL_1c08069dce1e40a6aac472db18e65cd4",
            "max": 100,
            "min": 0,
            "orientation": "horizontal",
            "style": "IPY_MODEL_f14a3485906048c3a50a4aba42fb3dfe",
            "value": 100
          }
        },
        "f131c20014dc42dbaa22b6a4a0a645a3": {
          "model_module": "@jupyter-widgets/controls",
          "model_name": "HTMLModel",
          "model_module_version": "1.5.0",
          "state": {
            "_dom_classes": [],
            "_model_module": "@jupyter-widgets/controls",
            "_model_module_version": "1.5.0",
            "_model_name": "HTMLModel",
            "_view_count": null,
            "_view_module": "@jupyter-widgets/controls",
            "_view_module_version": "1.5.0",
            "_view_name": "HTMLView",
            "description": "",
            "description_tooltip": null,
            "layout": "IPY_MODEL_001f372aa99d4e34bcc90f4a66df3fbb",
            "placeholder": "​",
            "style": "IPY_MODEL_1a170b10407f4504ba65a2e101701382",
            "value": " 100/100 [14:31&lt;00:00,  9.71s/it]"
          }
        },
        "bbf7e629bdad4d09be3dd65c3012a54e": {
          "model_module": "@jupyter-widgets/base",
          "model_name": "LayoutModel",
          "model_module_version": "1.2.0",
          "state": {
            "_model_module": "@jupyter-widgets/base",
            "_model_module_version": "1.2.0",
            "_model_name": "LayoutModel",
            "_view_count": null,
            "_view_module": "@jupyter-widgets/base",
            "_view_module_version": "1.2.0",
            "_view_name": "LayoutView",
            "align_content": null,
            "align_items": null,
            "align_self": null,
            "border": null,
            "bottom": null,
            "display": null,
            "flex": null,
            "flex_flow": null,
            "grid_area": null,
            "grid_auto_columns": null,
            "grid_auto_flow": null,
            "grid_auto_rows": null,
            "grid_column": null,
            "grid_gap": null,
            "grid_row": null,
            "grid_template_areas": null,
            "grid_template_columns": null,
            "grid_template_rows": null,
            "height": null,
            "justify_content": null,
            "justify_items": null,
            "left": null,
            "margin": null,
            "max_height": null,
            "max_width": null,
            "min_height": null,
            "min_width": null,
            "object_fit": null,
            "object_position": null,
            "order": null,
            "overflow": null,
            "overflow_x": null,
            "overflow_y": null,
            "padding": null,
            "right": null,
            "top": null,
            "visibility": null,
            "width": null
          }
        },
        "29147c281c0247b294c658f8dd3d7ce8": {
          "model_module": "@jupyter-widgets/base",
          "model_name": "LayoutModel",
          "model_module_version": "1.2.0",
          "state": {
            "_model_module": "@jupyter-widgets/base",
            "_model_module_version": "1.2.0",
            "_model_name": "LayoutModel",
            "_view_count": null,
            "_view_module": "@jupyter-widgets/base",
            "_view_module_version": "1.2.0",
            "_view_name": "LayoutView",
            "align_content": null,
            "align_items": null,
            "align_self": null,
            "border": null,
            "bottom": null,
            "display": null,
            "flex": null,
            "flex_flow": null,
            "grid_area": null,
            "grid_auto_columns": null,
            "grid_auto_flow": null,
            "grid_auto_rows": null,
            "grid_column": null,
            "grid_gap": null,
            "grid_row": null,
            "grid_template_areas": null,
            "grid_template_columns": null,
            "grid_template_rows": null,
            "height": null,
            "justify_content": null,
            "justify_items": null,
            "left": null,
            "margin": null,
            "max_height": null,
            "max_width": null,
            "min_height": null,
            "min_width": null,
            "object_fit": null,
            "object_position": null,
            "order": null,
            "overflow": null,
            "overflow_x": null,
            "overflow_y": null,
            "padding": null,
            "right": null,
            "top": null,
            "visibility": null,
            "width": null
          }
        },
        "a928196b593f4fd3bbb35d7b40a4db9b": {
          "model_module": "@jupyter-widgets/controls",
          "model_name": "DescriptionStyleModel",
          "model_module_version": "1.5.0",
          "state": {
            "_model_module": "@jupyter-widgets/controls",
            "_model_module_version": "1.5.0",
            "_model_name": "DescriptionStyleModel",
            "_view_count": null,
            "_view_module": "@jupyter-widgets/base",
            "_view_module_version": "1.2.0",
            "_view_name": "StyleView",
            "description_width": ""
          }
        },
        "1c08069dce1e40a6aac472db18e65cd4": {
          "model_module": "@jupyter-widgets/base",
          "model_name": "LayoutModel",
          "model_module_version": "1.2.0",
          "state": {
            "_model_module": "@jupyter-widgets/base",
            "_model_module_version": "1.2.0",
            "_model_name": "LayoutModel",
            "_view_count": null,
            "_view_module": "@jupyter-widgets/base",
            "_view_module_version": "1.2.0",
            "_view_name": "LayoutView",
            "align_content": null,
            "align_items": null,
            "align_self": null,
            "border": null,
            "bottom": null,
            "display": null,
            "flex": null,
            "flex_flow": null,
            "grid_area": null,
            "grid_auto_columns": null,
            "grid_auto_flow": null,
            "grid_auto_rows": null,
            "grid_column": null,
            "grid_gap": null,
            "grid_row": null,
            "grid_template_areas": null,
            "grid_template_columns": null,
            "grid_template_rows": null,
            "height": null,
            "justify_content": null,
            "justify_items": null,
            "left": null,
            "margin": null,
            "max_height": null,
            "max_width": null,
            "min_height": null,
            "min_width": null,
            "object_fit": null,
            "object_position": null,
            "order": null,
            "overflow": null,
            "overflow_x": null,
            "overflow_y": null,
            "padding": null,
            "right": null,
            "top": null,
            "visibility": null,
            "width": null
          }
        },
        "f14a3485906048c3a50a4aba42fb3dfe": {
          "model_module": "@jupyter-widgets/controls",
          "model_name": "ProgressStyleModel",
          "model_module_version": "1.5.0",
          "state": {
            "_model_module": "@jupyter-widgets/controls",
            "_model_module_version": "1.5.0",
            "_model_name": "ProgressStyleModel",
            "_view_count": null,
            "_view_module": "@jupyter-widgets/base",
            "_view_module_version": "1.2.0",
            "_view_name": "StyleView",
            "bar_color": null,
            "description_width": ""
          }
        },
        "001f372aa99d4e34bcc90f4a66df3fbb": {
          "model_module": "@jupyter-widgets/base",
          "model_name": "LayoutModel",
          "model_module_version": "1.2.0",
          "state": {
            "_model_module": "@jupyter-widgets/base",
            "_model_module_version": "1.2.0",
            "_model_name": "LayoutModel",
            "_view_count": null,
            "_view_module": "@jupyter-widgets/base",
            "_view_module_version": "1.2.0",
            "_view_name": "LayoutView",
            "align_content": null,
            "align_items": null,
            "align_self": null,
            "border": null,
            "bottom": null,
            "display": null,
            "flex": null,
            "flex_flow": null,
            "grid_area": null,
            "grid_auto_columns": null,
            "grid_auto_flow": null,
            "grid_auto_rows": null,
            "grid_column": null,
            "grid_gap": null,
            "grid_row": null,
            "grid_template_areas": null,
            "grid_template_columns": null,
            "grid_template_rows": null,
            "height": null,
            "justify_content": null,
            "justify_items": null,
            "left": null,
            "margin": null,
            "max_height": null,
            "max_width": null,
            "min_height": null,
            "min_width": null,
            "object_fit": null,
            "object_position": null,
            "order": null,
            "overflow": null,
            "overflow_x": null,
            "overflow_y": null,
            "padding": null,
            "right": null,
            "top": null,
            "visibility": null,
            "width": null
          }
        },
        "1a170b10407f4504ba65a2e101701382": {
          "model_module": "@jupyter-widgets/controls",
          "model_name": "DescriptionStyleModel",
          "model_module_version": "1.5.0",
          "state": {
            "_model_module": "@jupyter-widgets/controls",
            "_model_module_version": "1.5.0",
            "_model_name": "DescriptionStyleModel",
            "_view_count": null,
            "_view_module": "@jupyter-widgets/base",
            "_view_module_version": "1.2.0",
            "_view_name": "StyleView",
            "description_width": ""
          }
        }
      }
    }
  },
  "nbformat": 4,
  "nbformat_minor": 0
}